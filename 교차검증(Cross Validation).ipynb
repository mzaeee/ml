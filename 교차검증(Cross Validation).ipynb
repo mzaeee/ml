{
 "cells": [
  {
   "cell_type": "markdown",
   "id": "9dccb530",
   "metadata": {},
   "source": [
    "# Kfold 예제"
   ]
  },
  {
   "cell_type": "markdown",
   "id": "cbc4e439",
   "metadata": {},
   "source": [
    "### sklearn.model_selection.KFold\n",
    "class sklearn.model_selection.KFold(n_splits=5, *, shuffle=False, random_state=None)"
   ]
  },
  {
   "cell_type": "code",
   "execution_count": 2,
   "id": "bc0faea3",
   "metadata": {
    "ExecuteTime": {
     "end_time": "2022-06-30T02:19:41.941964Z",
     "start_time": "2022-06-30T02:19:41.919133Z"
    }
   },
   "outputs": [
    {
     "name": "stdout",
     "output_type": "stream",
     "text": [
      "붓꽃 데이터 세트 크기: 150\n"
     ]
    }
   ],
   "source": [
    "from sklearn.tree import DecisionTreeClassifier\n",
    "from sklearn.metrics import accuracy_score\n",
    "from sklearn.model_selection import KFold\n",
    "from sklearn.datasets import load_iris\n",
    "import numpy as np\n",
    "\n",
    "iris = load_iris()\n",
    "features = iris.data\n",
    "label = iris.target\n",
    "dt_clf = DecisionTreeClassifier(random_state=156)\n",
    "\n",
    "#5개의 폴드 세트로 분리하느 kfold 객체와 폴드 세트별 정확도를 담을 리스트 객체 생성\n",
    "kfold = KFold(n_splits=5)\n",
    "cv_accuracy = []\n",
    "print('붓꽃 데이터 세트 크기:', features.shape[0])"
   ]
  },
  {
   "cell_type": "code",
   "execution_count": 8,
   "id": "13607bb8",
   "metadata": {
    "ExecuteTime": {
     "end_time": "2022-06-30T02:56:30.634280Z",
     "start_time": "2022-06-30T02:56:30.619730Z"
    },
    "scrolled": true
   },
   "outputs": [
    {
     "name": "stdout",
     "output_type": "stream",
     "text": [
      "\n",
      "#1 교차 검증 정확도 :1.0, 학습 데이터 크기: 120, 검증 데이터 크기: 30\n",
      "#1 검증 세트 인덱스:[ 0  1  2  3  4  5  6  7  8  9 10 11 12 13 14 15 16 17 18 19 20 21 22 23\n",
      " 24 25 26 27 28 29]\n",
      "\n",
      "#2 교차 검증 정확도 :0.9667, 학습 데이터 크기: 120, 검증 데이터 크기: 30\n",
      "#2 검증 세트 인덱스:[30 31 32 33 34 35 36 37 38 39 40 41 42 43 44 45 46 47 48 49 50 51 52 53\n",
      " 54 55 56 57 58 59]\n",
      "\n",
      "#3 교차 검증 정확도 :0.8667, 학습 데이터 크기: 120, 검증 데이터 크기: 30\n",
      "#3 검증 세트 인덱스:[60 61 62 63 64 65 66 67 68 69 70 71 72 73 74 75 76 77 78 79 80 81 82 83\n",
      " 84 85 86 87 88 89]\n",
      "\n",
      "#4 교차 검증 정확도 :0.9333, 학습 데이터 크기: 120, 검증 데이터 크기: 30\n",
      "#4 검증 세트 인덱스:[ 90  91  92  93  94  95  96  97  98  99 100 101 102 103 104 105 106 107\n",
      " 108 109 110 111 112 113 114 115 116 117 118 119]\n",
      "\n",
      "#5 교차 검증 정확도 :0.7333, 학습 데이터 크기: 120, 검증 데이터 크기: 30\n",
      "#5 검증 세트 인덱스:[120 121 122 123 124 125 126 127 128 129 130 131 132 133 134 135 136 137\n",
      " 138 139 140 141 142 143 144 145 146 147 148 149]\n",
      "\n",
      "## 평균 검증 정확도: 0.9\n"
     ]
    }
   ],
   "source": [
    "n_iter = 0\n",
    "#KFold객체의 split() 호출하면 폴드 별 학슴용, 검증용 테스트의 로우 인덱스를 array로 반환\n",
    "for train_index, test_index in kfold.split(features):\n",
    "    #kfold.split()으로 반환된 인덱스를 이용하여 학습용, 검증용 테스트 데이터 추출\n",
    "    X_train, X_test = features[train_index], features[test_index]\n",
    "    y_train, y_test = label[train_index], label[test_index]\n",
    "    #학습 및 예측\n",
    "    dt_clf.fit(X_train, y_train)\n",
    "    pred = dt_clf.predict(X_test)\n",
    "    n_iter += 1\n",
    "    #반복 시 마다 정확도 측정\n",
    "    accuracy = np.round(accuracy_score(y_test,pred), 4)\n",
    "    train_size = X_train.shape[0]\n",
    "    test_size = X_test.shape[0]\n",
    "    print('\\n#{0} 교차 검증 정확도 :{1}, 학습 데이터 크기: {2}, 검증 데이터 크기: {3}'\n",
    "         .format(n_iter, accuracy, train_size, test_size))\n",
    "    print('#{0} 검증 세트 인덱스:{1}'.format(n_iter, test_index))\n",
    "    cv_accuracy.append(accuracy)\n",
    " \n",
    "#개별 iteration별 정확도를 합하여 평균 정확도 계산\n",
    "print('\\n## 평균 검증 정확도:', np.mean(cv_accuracy))"
   ]
  },
  {
   "cell_type": "markdown",
   "id": "699257b0",
   "metadata": {
    "ExecuteTime": {
     "end_time": "2022-06-30T04:16:10.317629Z",
     "start_time": "2022-06-30T04:16:10.299225Z"
    }
   },
   "source": [
    "# Stratified K fold 분류법\n",
    "k-fold의 문제점인 target 데이터의 비율을 일정하게 유지 하지 못하는 것을 일정 하게 유지하며, 교차 검증을 진행 하는 것\n",
    "- 레이블 데이터 분포도에 따라 학습/검증 데이터를 나누기 때문에 split()에 인자로 피처데이터 뿐 아니라, 레이블데이터까지 줘야한다"
   ]
  },
  {
   "cell_type": "code",
   "execution_count": 23,
   "id": "e1ac694e",
   "metadata": {
    "ExecuteTime": {
     "end_time": "2022-06-30T04:34:29.897419Z",
     "start_time": "2022-06-30T04:34:29.878714Z"
    },
    "scrolled": true
   },
   "outputs": [
    {
     "data": {
      "text/plain": [
       "0    50\n",
       "1    50\n",
       "2    50\n",
       "Name: label, dtype: int64"
      ]
     },
     "execution_count": 23,
     "metadata": {},
     "output_type": "execute_result"
    }
   ],
   "source": [
    "iris_data = load_iris()\n",
    "iris_data.keys()\n",
    "import pandas as pd\n",
    "\n",
    "iris = load_iris()\n",
    "iris_df = pd.DataFrame(data = iris.data, columns = iris.feature_names)\n",
    "iris_df['label'] = iris.target\n",
    "iris_df['label'].value_counts()\n",
    "\n",
    "df = pd.DataFrame(iris_data.data, columns=iris_data.feature_names)\n",
    "df['label'] = iris_data.target\n",
    "df['label'].value_counts()"
   ]
  },
  {
   "cell_type": "code",
   "execution_count": 34,
   "id": "a1b9508a",
   "metadata": {
    "ExecuteTime": {
     "end_time": "2022-06-30T05:02:02.796062Z",
     "start_time": "2022-06-30T05:02:02.779433Z"
    }
   },
   "outputs": [
    {
     "name": "stdout",
     "output_type": "stream",
     "text": [
      "## 교차 검증: 4\n",
      "학습 레이블 데이터 분포 :\n",
      " 1    50\n",
      "2    50\n",
      "Name: label, dtype: int64\n",
      "검증 레이블 데이터 분포:\n",
      " 0    50\n",
      "Name: label, dtype: int64\n",
      "## 교차 검증: 5\n",
      "학습 레이블 데이터 분포 :\n",
      " 0    50\n",
      "2    50\n",
      "Name: label, dtype: int64\n",
      "검증 레이블 데이터 분포:\n",
      " 1    50\n",
      "Name: label, dtype: int64\n",
      "## 교차 검증: 6\n",
      "학습 레이블 데이터 분포 :\n",
      " 0    50\n",
      "1    50\n",
      "Name: label, dtype: int64\n",
      "검증 레이블 데이터 분포:\n",
      " 2    50\n",
      "Name: label, dtype: int64\n"
     ]
    }
   ],
   "source": [
    "for train_index, test_index in kfold.split(iris_df, iris_df['label']):\n",
    "    n_iter += 1\n",
    "    label_train = iris_df['label'].iloc[train_index]\n",
    "    label_test = iris_df['label'].iloc[test_index]\n",
    "    print('## 교차 검증: {0}'.format(n_iter))\n",
    "    print('학습 레이블 데이터 분포 :\\n', label_train.value_counts())\n",
    "    print('검증 레이블 데이터 분포:\\n', label_test.value_counts())"
   ]
  },
  {
   "cell_type": "code",
   "execution_count": 29,
   "id": "35c04aca",
   "metadata": {
    "ExecuteTime": {
     "end_time": "2022-06-30T04:50:07.412899Z",
     "start_time": "2022-06-30T04:50:07.387072Z"
    }
   },
   "outputs": [
    {
     "name": "stdout",
     "output_type": "stream",
     "text": [
      "1 : 1    50\n",
      "2    50\n",
      "Name: label, dtype: int64 \n",
      "\n",
      "1 : 0    50\n",
      "Name: label, dtype: int64\n",
      "[1 1 1 1 1 1 1 1 1 1 1 1 1 1 1 1 1 1 1 1 1 1 1 1 1 1 1 1 1 1 1 1 1 1 1 1 1\n",
      " 1 1 1 1 1 1 1 1 1 1 1 1 1]\n",
      "0.0\n",
      "2 : 0    50\n",
      "2    50\n",
      "Name: label, dtype: int64 \n",
      "\n",
      "2 : 1    50\n",
      "Name: label, dtype: int64\n",
      "[2 2 2 2 2 2 2 2 2 2 2 2 2 2 2 2 2 2 2 2 2 2 2 2 2 2 2 2 2 2 2 2 2 2 2 2 2\n",
      " 2 2 2 2 2 2 2 2 2 2 2 0 2]\n",
      "0.0\n",
      "3 : 0    50\n",
      "1    50\n",
      "Name: label, dtype: int64 \n",
      "\n",
      "3 : 2    50\n",
      "Name: label, dtype: int64\n",
      "[1 1 1 1 1 1 1 1 1 1 1 1 1 1 1 1 1 1 1 1 1 1 1 1 1 1 1 1 1 1 1 1 1 1 1 1 1\n",
      " 1 1 1 1 1 1 1 1 1 1 1 1 1]\n",
      "0.0\n"
     ]
    }
   ],
   "source": [
    "from sklearn.model_selection import KFold, StratifiedKFold\n",
    "from sklearn.tree import DecisionTreeClassifier\n",
    "kfold = KFold(n_splits=3)\n",
    "dt_clf = DecisionTreeClassifier(random_state=121)\n",
    "n_iter = 0\n",
    "#StratifiedKFold의 split() 호출시 반드시 레이블 데이터 셋도 추가 입력\n",
    "for train_index , test_index in kfold.split(features):\n",
    "    #split()으로 반환된 인덱스를 이용하여 학습용, 검증용 테스트 데이터 추출\n",
    "    X_train, X_test = features[train_index], features[test_index]\n",
    "    y_train, y_test = label[train_index], label[test_index]\n",
    "    #학습 및 예측\n",
    "    n_iter +=1\n",
    "    label_train = df['label'].iloc[train_index]\n",
    "    label_test = df['label'].iloc[test_index]\n",
    "    X_train, X_test = features[train_index], features[test_index]\n",
    "    y_train, y_test = label[train_index], label[test_index]\n",
    "    print(f'{n_iter} : {label_train.value_counts()} \\n')\n",
    "    print(f'{n_iter} : {label_test.value_counts()}')\n",
    "    dt_clf.fit(X_train,y_train )\n",
    "    pred = dt_clf.predict(X_test)\n",
    "    print(pred)\n",
    "    accuracy = np.round(accuracy_score(y_test,pred), 4)\n",
    "    print(accuracy)"
   ]
  },
  {
   "cell_type": "code",
   "execution_count": 35,
   "id": "721ee1e1",
   "metadata": {
    "ExecuteTime": {
     "end_time": "2022-06-30T05:28:05.046483Z",
     "start_time": "2022-06-30T05:28:05.022316Z"
    }
   },
   "outputs": [
    {
     "name": "stdout",
     "output_type": "stream",
     "text": [
      "7 : 2    34\n",
      "0    33\n",
      "1    33\n",
      "Name: label, dtype: int64 \n",
      "\n",
      "7 : 0    17\n",
      "1    17\n",
      "2    16\n",
      "Name: label, dtype: int64\n",
      "[0 0 0 0 0 0 0 0 0 0 0 0 0 0 0 0 0 1 1 1 1 1 1 1 1 1 1 1 1 1 1 1 1 1 2 2 2\n",
      " 2 2 2 1 2 2 2 2 2 2 2 2 2]\n",
      "0.98\n",
      "8 : 1    34\n",
      "0    33\n",
      "2    33\n",
      "Name: label, dtype: int64 \n",
      "\n",
      "8 : 0    17\n",
      "2    17\n",
      "1    16\n",
      "Name: label, dtype: int64\n",
      "[0 0 0 0 0 0 0 0 0 0 0 0 0 0 0 0 0 1 1 1 2 1 1 1 1 1 1 2 1 1 1 1 1 2 2 2 1\n",
      " 2 2 2 2 2 2 2 2 2 2 2 2 2]\n",
      "0.94\n",
      "9 : 0    34\n",
      "1    33\n",
      "2    33\n",
      "Name: label, dtype: int64 \n",
      "\n",
      "9 : 1    17\n",
      "2    17\n",
      "0    16\n",
      "Name: label, dtype: int64\n",
      "[0 0 0 0 0 0 0 0 0 0 0 0 0 0 0 0 1 1 2 1 1 1 1 1 1 1 1 1 1 1 1 1 1 2 2 2 2\n",
      " 2 2 2 2 2 2 2 2 2 2 2 2 2]\n",
      "0.98\n",
      "0.9666666666666667\n"
     ]
    }
   ],
   "source": [
    "sk_fold = StratifiedKFold(n_splits=3)\n",
    "n_iter +=0\n",
    "val_list = []\n",
    "for train_index , test_index in sk_fold.split(features, label):\n",
    "    n_iter +=1\n",
    "    label_train = df['label'].iloc[train_index]\n",
    "    label_test = df['label'].iloc[test_index]\n",
    "    X_train, X_test = features[train_index], features[test_index]\n",
    "    y_train, y_test = label[train_index], label[test_index]\n",
    "    print(f'{n_iter} : {label_train.value_counts()} \\n')\n",
    "    print(f'{n_iter} : {label_test.value_counts()}')\n",
    "    dt_clf.fit(X_train,y_train )\n",
    "    pred = dt_clf.predict(X_test)\n",
    "    print(pred)\n",
    "    accuracy = np.round(accuracy_score(y_test, pred), 4)\n",
    "    print(accuracy)\n",
    "    val_list.append(accuracy)\n",
    "val_acc = np.mean(val_list)\n",
    "print(val_acc)"
   ]
  },
  {
   "cell_type": "code",
   "execution_count": 39,
   "id": "1d84ebed",
   "metadata": {
    "ExecuteTime": {
     "end_time": "2022-06-30T05:33:11.761389Z",
     "start_time": "2022-06-30T05:33:11.737868Z"
    }
   },
   "outputs": [
    {
     "name": "stdout",
     "output_type": "stream",
     "text": [
      "\n",
      "#1교차 검증 정확도 :0.0, 학습데이터크기: 100, 검증데이터크기:50\n",
      "#1 검증 세트 인덱스:[ 0  1  2  3  4  5  6  7  8  9 10 11 12 13 14 15 16 17 18 19 20 21 22 23\n",
      " 24 25 26 27 28 29 30 31 32 33 34 35 36 37 38 39 40 41 42 43 44 45 46 47\n",
      " 48 49]\n",
      "\n",
      "#2교차 검증 정확도 :0.0, 학습데이터크기: 100, 검증데이터크기:50\n",
      "#2 검증 세트 인덱스:[50 51 52 53 54 55 56 57 58 59 60 61 62 63 64 65 66 67 68 69 70 71 72 73\n",
      " 74 75 76 77 78 79 80 81 82 83 84 85 86 87 88 89 90 91 92 93 94 95 96 97\n",
      " 98 99]\n",
      "\n",
      "#3교차 검증 정확도 :0.0, 학습데이터크기: 100, 검증데이터크기:50\n",
      "#3 검증 세트 인덱스:[100 101 102 103 104 105 106 107 108 109 110 111 112 113 114 115 116 117\n",
      " 118 119 120 121 122 123 124 125 126 127 128 129 130 131 132 133 134 135\n",
      " 136 137 138 139 140 141 142 143 144 145 146 147 148 149]\n",
      "\n",
      "## 교차 검증별 정확도: [0. 0. 0.]\n",
      "## 평균 검증 정확도: 0.0\n"
     ]
    }
   ],
   "source": [
    "dt_clf = DecisionTreeClassifier(random_state=156)\n",
    "\n",
    "kfold = KFold(n_splits=3)\n",
    "n_iter = 0\n",
    "cv_accuracy=[]\n",
    "\n",
    "#StratifiedKFold의 split() 호출시 반드시 레이블 데이터 셋도 추가 입력\n",
    "for train_index , test_index in kfold.split(features, label):\n",
    "    #split()으로 반환된 인덱스를 이용하여 학습용, 검증용 테스트 데이터 추출\n",
    "    X_train, X_test = features[train_index], features[test_index]\n",
    "    y_train, y_test = label[train_index], label[test_index]\n",
    "    #학습 및 예측\n",
    "    dt_clf.fit(X_train,y_train)\n",
    "    pred = dt_clf.predict(X_test)\n",
    "    \n",
    "    #반복시 마다 정확도 측정\n",
    "    n_iter += 1\n",
    "    accuracy = np.round(accuracy_score(y_test,pred), 4)\n",
    "    train_size = X_train.shape[0]\n",
    "    test_size = X_test.shape[0]\n",
    "    print('\\n#{0}교차 검증 정확도 :{1}, 학습데이터크기: {2}, 검증데이터크기:{3}'\n",
    "         .format(n_iter, accuracy, train_size, test_size))\n",
    "    print('#{0} 검증 세트 인덱스:{1}'.format(n_iter, test_index))\n",
    "    cv_accuracy.append(accuracy)\n",
    "    \n",
    "#교차 검증별 정확도 및 평균 정확도 계산\n",
    "print('\\n## 교차 검증별 정확도:', np.round(cv_accuracy, 4))\n",
    "print('## 평균 검증 정확도:', np.mean(cv_accuracy))"
   ]
  },
  {
   "cell_type": "markdown",
   "id": "0d4060ee",
   "metadata": {},
   "source": [
    "# sklearn.model_selection.cross_val_score\n",
    "#### cross_val_score()함수로 폴드세트 추출, 학습/예측, 평가를 한번에 수행\n",
    "(estimator(판단알고리즘), X, y=None, *, groups=None, scoring=None, cv=None, n_jobs=None, verbose=0, fit_params=None, pre_dispatch='2*n_jobs', error_score=nan)\n",
    "\n",
    "- estimator, X, cv=None"
   ]
  },
  {
   "cell_type": "markdown",
   "id": "4b274312",
   "metadata": {},
   "source": [
    "_cross_val_score() 반환 값은 scoring 파라미터로 지정된 성능 지표 측정값을 배열 형태로 반환한다. 요소의 개수는 cv(폴드 수)만큼 들어있다. 그리고 일반적으로 이를 평균한 값을 평가 수치로 사용한다."
   ]
  },
  {
   "cell_type": "markdown",
   "id": "cd609d39",
   "metadata": {},
   "source": [
    "## Cross_val_score와 cross_validate 비교\n",
    "공통점 : scoring 매개변수에 원하는 평가 지표를 지정할수있다.\n",
    "\n",
    "#### cross_val_score()\n",
    "\n",
    "#### cross_validate() 다중평가지표\n",
    "-여러개의 평가 지표를 이용할수있다. -> 딕셔너리로 만들어 전달\n",
    "-디폴트 설정에서 테스트 폴드에 대한 점수 뿐만 아니라 훈련 폴드에 대한 점수도 반환\n"
   ]
  },
  {
   "cell_type": "markdown",
   "id": "ecec353f",
   "metadata": {},
   "source": [
    "##### cross_val_score()의 값은 리스트값으로\n",
    "데이터를 늘려주는 효과도 발생"
   ]
  },
  {
   "cell_type": "code",
   "execution_count": 42,
   "id": "9556ac11",
   "metadata": {
    "ExecuteTime": {
     "end_time": "2022-06-30T06:18:35.598489Z",
     "start_time": "2022-06-30T06:18:35.587750Z"
    }
   },
   "outputs": [
    {
     "name": "stdout",
     "output_type": "stream",
     "text": [
      "교차 검증별 정확도: [0.98 0.94 0.98]\n",
      "평균 검증 정확도: 0.9667\n"
     ]
    }
   ],
   "source": [
    "from sklearn.tree import DecisionTreeClassifier\n",
    "from sklearn.model_selection import cross_val_score, cross_validate\n",
    "from sklearn.datasets import load_iris\n",
    "\n",
    "iris_data = load_iris()\n",
    "df_clf = DecisionTreeClassifier(random_state=156)\n",
    "\n",
    "data = iris_data.data\n",
    "label = iris_data.target\n",
    "\n",
    "#scoring, cv -> 하이퍼파라미터 조정\n",
    "#성능 지표는 정확도(accuracy), 교차 검증 세트 3개\n",
    "scores = cross_val_score(df_clf, data, label, scoring='accuracy', cv=3)\n",
    "#df_clf, data, label 은 원래 위치와 같기 때문에 '='를 써주지않고\n",
    "#scoring과 cv는 위치가 다르기때문에 위치인자를 써줌 '='\n",
    "print('교차 검증별 정확도:', np.round(scores, 4))\n",
    "print('평균 검증 정확도:', np.round(np.mean(scores), 4))"
   ]
  },
  {
   "cell_type": "markdown",
   "id": "4b7c0403",
   "metadata": {},
   "source": [
    "## GridSearchCV\n",
    "- 여러개의 하이퍼파라미터 값들을 나열해놓고 하나하나 경우의 수를 따져서 최적의 하이퍼파라미터 값을 찾음( 어떤파라미터들 이 좋을지)\n",
    "\n",
    "알고리즘을 선언 -> 데이터셋 로드 -> 피처들 선택 -> 레이블 선택 -> 하이퍼파라미터값(딕셔너리 형태)들을 넣어줌 -> GridSearchCV\n",
    "\n",
    "##### GridSearchCV\n",
    "(estimator, param_grid, *, scoring=None, n_jobs=None, refit=True, cv=None, verbose=0, pre_dispatch='2*n_jobs', error_score=nan, return_train_score=False)\n",
    "\n",
    "ex)\n",
    "max_depth = 3, 5, 10\n",
    "max_features = 1, 2, 5\n",
    "\n",
    "3,1일때 /  5,1일때 / 10,1일때 /\n",
    "3,2일때 / 5,2일때 / 10,2일때 /\n",
    "3,5일때 / 5,5일때 / 10,5일때 /\n",
    "\n",
    "\n",
    "##### attributes 찾아보기\n"
   ]
  },
  {
   "cell_type": "code",
   "execution_count": 50,
   "id": "24a10116",
   "metadata": {
    "ExecuteTime": {
     "end_time": "2022-06-30T07:53:57.240189Z",
     "start_time": "2022-06-30T07:53:57.230158Z"
    }
   },
   "outputs": [],
   "source": [
    "from sklearn.datasets import load_iris\n",
    "from sklearn.tree import DecisionTreeClassifier\n",
    "from sklearn.model_selection import GridSearchCV\n",
    "from sklearn.model_selection import train_test_split\n",
    "\n",
    "#데이터를 로딩하고 학습데이터와 테스트 데이터 분리\n",
    "iris = load_iris()\n",
    "X_train, X_test, y_train, y_test = train_test_split(iris_data.data, iris_data.target,\n",
    "                                                   test_size = 0.2, random_state = 121)\n",
    "dtree = DecisionTreeClassifier()\n",
    "\n",
    "### parameter 들을 dictionary 형태로 설정\n",
    "parameters = {'max_depth':[1,2,3], 'min_samples_split':[2,3]}\n",
    "\n",
    "\n"
   ]
  },
  {
   "cell_type": "code",
   "execution_count": 52,
   "id": "9b6c9a52",
   "metadata": {
    "ExecuteTime": {
     "end_time": "2022-06-30T07:54:21.225782Z",
     "start_time": "2022-06-30T07:54:21.185213Z"
    }
   },
   "outputs": [
    {
     "data": {
      "text/html": [
       "<div>\n",
       "<style scoped>\n",
       "    .dataframe tbody tr th:only-of-type {\n",
       "        vertical-align: middle;\n",
       "    }\n",
       "\n",
       "    .dataframe tbody tr th {\n",
       "        vertical-align: top;\n",
       "    }\n",
       "\n",
       "    .dataframe thead th {\n",
       "        text-align: right;\n",
       "    }\n",
       "</style>\n",
       "<table border=\"1\" class=\"dataframe\">\n",
       "  <thead>\n",
       "    <tr style=\"text-align: right;\">\n",
       "      <th></th>\n",
       "      <th>params</th>\n",
       "      <th>mean_test_score</th>\n",
       "      <th>rank_test_score</th>\n",
       "      <th>split0_test_score</th>\n",
       "      <th>split1_test_score</th>\n",
       "      <th>split2_test_score</th>\n",
       "    </tr>\n",
       "  </thead>\n",
       "  <tbody>\n",
       "    <tr>\n",
       "      <th>0</th>\n",
       "      <td>{'max_depth': 1, 'min_samples_split': 2}</td>\n",
       "      <td>0.700000</td>\n",
       "      <td>5</td>\n",
       "      <td>0.700</td>\n",
       "      <td>0.7</td>\n",
       "      <td>0.70</td>\n",
       "    </tr>\n",
       "    <tr>\n",
       "      <th>1</th>\n",
       "      <td>{'max_depth': 1, 'min_samples_split': 3}</td>\n",
       "      <td>0.700000</td>\n",
       "      <td>5</td>\n",
       "      <td>0.700</td>\n",
       "      <td>0.7</td>\n",
       "      <td>0.70</td>\n",
       "    </tr>\n",
       "    <tr>\n",
       "      <th>2</th>\n",
       "      <td>{'max_depth': 2, 'min_samples_split': 2}</td>\n",
       "      <td>0.958333</td>\n",
       "      <td>3</td>\n",
       "      <td>0.925</td>\n",
       "      <td>1.0</td>\n",
       "      <td>0.95</td>\n",
       "    </tr>\n",
       "    <tr>\n",
       "      <th>3</th>\n",
       "      <td>{'max_depth': 2, 'min_samples_split': 3}</td>\n",
       "      <td>0.958333</td>\n",
       "      <td>3</td>\n",
       "      <td>0.925</td>\n",
       "      <td>1.0</td>\n",
       "      <td>0.95</td>\n",
       "    </tr>\n",
       "    <tr>\n",
       "      <th>4</th>\n",
       "      <td>{'max_depth': 3, 'min_samples_split': 2}</td>\n",
       "      <td>0.975000</td>\n",
       "      <td>1</td>\n",
       "      <td>0.975</td>\n",
       "      <td>1.0</td>\n",
       "      <td>0.95</td>\n",
       "    </tr>\n",
       "    <tr>\n",
       "      <th>5</th>\n",
       "      <td>{'max_depth': 3, 'min_samples_split': 3}</td>\n",
       "      <td>0.975000</td>\n",
       "      <td>1</td>\n",
       "      <td>0.975</td>\n",
       "      <td>1.0</td>\n",
       "      <td>0.95</td>\n",
       "    </tr>\n",
       "  </tbody>\n",
       "</table>\n",
       "</div>"
      ],
      "text/plain": [
       "                                     params  mean_test_score  ...  split1_test_score  split2_test_score\n",
       "0  {'max_depth': 1, 'min_samples_split': 2}         0.700000  ...                0.7               0.70\n",
       "1  {'max_depth': 1, 'min_samples_split': 3}         0.700000  ...                0.7               0.70\n",
       "2  {'max_depth': 2, 'min_samples_split': 2}         0.958333  ...                1.0               0.95\n",
       "3  {'max_depth': 2, 'min_samples_split': 3}         0.958333  ...                1.0               0.95\n",
       "4  {'max_depth': 3, 'min_samples_split': 2}         0.975000  ...                1.0               0.95\n",
       "5  {'max_depth': 3, 'min_samples_split': 3}         0.975000  ...                1.0               0.95\n",
       "\n",
       "[6 rows x 6 columns]"
      ]
     },
     "execution_count": 52,
     "metadata": {},
     "output_type": "execute_result"
    }
   ],
   "source": [
    "import pandas as pd\n",
    "\n",
    "#param_grid의 하이퍼 파라미터들을 3개의 train, test set fold로 나누어서 테스트 수행 설정\n",
    "### refit=True 가 default. True이면 가장 좋은 파라미터 설정으로 재학습\n",
    "grid_dtree = GridSearchCV(dtree, param_grid=parameters, cv=3, refit=True)\n",
    "\n",
    "#붓꽃 Train 데이터로 pram_grid의 하이퍼파라미터들을 순차적으로 학습/평가\n",
    "grid_dtree.fit(X_train, y_train)\n",
    "\n",
    "#GridSearchCV결과 추출 -> DataFrame으로 변환\n",
    "scores_df = pd.DataFrame(grid_dtree.cv_results_)\n",
    "scores_df[['params', 'mean_test_score', 'rank_test_score', \\\n",
    "          'split0_test_score', 'split1_test_score', 'split2_test_score']]"
   ]
  },
  {
   "cell_type": "code",
   "execution_count": 53,
   "id": "243ba490",
   "metadata": {
    "ExecuteTime": {
     "end_time": "2022-06-30T07:56:34.479996Z",
     "start_time": "2022-06-30T07:56:34.466203Z"
    }
   },
   "outputs": [
    {
     "name": "stdout",
     "output_type": "stream",
     "text": [
      "[{'max_depth': 1, 'min_samples_split': 2}, {'max_depth': 1, 'min_samples_split': 3}, {'max_depth': 2, 'min_samples_split': 2}, {'max_depth': 2, 'min_samples_split': 3}, {'max_depth': 3, 'min_samples_split': 2}, {'max_depth': 3, 'min_samples_split': 3}]\n"
     ]
    }
   ],
   "source": [
    "print(grid_dtree.cv_results_['params'])"
   ]
  },
  {
   "cell_type": "code",
   "execution_count": 54,
   "id": "a3ba74f0",
   "metadata": {
    "ExecuteTime": {
     "end_time": "2022-06-30T07:57:17.523533Z",
     "start_time": "2022-06-30T07:57:17.505125Z"
    }
   },
   "outputs": [
    {
     "name": "stdout",
     "output_type": "stream",
     "text": [
      "DecisionTreeClassifier(max_depth=3)\n"
     ]
    }
   ],
   "source": [
    "print(grid_dtree.best_estimator_)"
   ]
  },
  {
   "cell_type": "code",
   "execution_count": 55,
   "id": "3fe7e027",
   "metadata": {
    "ExecuteTime": {
     "end_time": "2022-06-30T07:57:31.365556Z",
     "start_time": "2022-06-30T07:57:31.347843Z"
    }
   },
   "outputs": [
    {
     "name": "stdout",
     "output_type": "stream",
     "text": [
      "{'max_depth': 3, 'min_samples_split': 2}\n"
     ]
    }
   ],
   "source": [
    "print(grid_dtree.best_params_)"
   ]
  },
  {
   "cell_type": "code",
   "execution_count": 59,
   "id": "0ffacc1c",
   "metadata": {
    "ExecuteTime": {
     "end_time": "2022-06-30T08:02:34.636797Z",
     "start_time": "2022-06-30T08:02:34.623840Z"
    }
   },
   "outputs": [
    {
     "data": {
      "text/plain": [
       "array([0])"
      ]
     },
     "execution_count": 59,
     "metadata": {},
     "output_type": "execute_result"
    }
   ],
   "source": [
    "X = [[5.2, 3.2, 1.3, 0.3]]\n",
    "grid_dtree.predict(X)"
   ]
  },
  {
   "cell_type": "markdown",
   "id": "bcc4fe16",
   "metadata": {},
   "source": [
    "데이터 수집 -> 탐색적 분석 -> [*데이터 전처리] -> 모델링(학습) -> 평가\n",
    "평가 결과에 따라 탐색적분석 전이나 모델링전으로 돌아감"
   ]
  },
  {
   "cell_type": "markdown",
   "id": "b0756222",
   "metadata": {},
   "source": [
    "# 데이터 전처리\n",
    "- 데이터 클린징 (3,000 -> 3000 ','제거)\n",
    "- 결손값 처리 (Null.NaN 처리)\n",
    "- 데이터 인코딩(레이블, 원-핫 인코딩 -문자로되어있는 것들을 숫자로 바꿔줌)\n",
    "- 데이터 스케일링 (표준편차)\n",
    "- 이상치 제거 (outlier)\n",
    "- Feature 선택, 추출 및 가공\n",
    "\n",
    "###### 무언가를 바꾸는걸 인코딩 / 바꾼걸 되돌리는게 디코딩\n",
    "- 문자 -> 숫자 / 숫자 -> 문자"
   ]
  }
 ],
 "metadata": {
  "kernelspec": {
   "display_name": "Python 3 (ipykernel)",
   "language": "python",
   "name": "python3"
  },
  "language_info": {
   "codemirror_mode": {
    "name": "ipython",
    "version": 3
   },
   "file_extension": ".py",
   "mimetype": "text/x-python",
   "name": "python",
   "nbconvert_exporter": "python",
   "pygments_lexer": "ipython3",
   "version": "3.10.4"
  },
  "toc": {
   "base_numbering": 1,
   "nav_menu": {},
   "number_sections": true,
   "sideBar": true,
   "skip_h1_title": false,
   "title_cell": "Table of Contents",
   "title_sidebar": "Contents",
   "toc_cell": false,
   "toc_position": {},
   "toc_section_display": true,
   "toc_window_display": false
  }
 },
 "nbformat": 4,
 "nbformat_minor": 5
}
