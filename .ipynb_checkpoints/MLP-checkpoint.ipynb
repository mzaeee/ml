{
 "cells": [
  {
   "cell_type": "code",
   "execution_count": 1,
   "id": "ac529240",
   "metadata": {
    "ExecuteTime": {
     "end_time": "2022-08-05T00:41:49.836785Z",
     "start_time": "2022-08-05T00:41:49.174883Z"
    }
   },
   "outputs": [],
   "source": [
    "import numpy as np"
   ]
  },
  {
   "cell_type": "code",
   "execution_count": 2,
   "id": "ac749e07",
   "metadata": {
    "ExecuteTime": {
     "end_time": "2022-08-05T00:42:56.886302Z",
     "start_time": "2022-08-05T00:42:56.876172Z"
    }
   },
   "outputs": [],
   "source": [
    "# 가중치와 바이어스\n",
    "w11 = np.array([-2,-2])\n",
    "w12 = np.array([2,2])\n",
    "w2 = np.array([1,1])\n",
    "b1 = 3\n",
    "b2 = -1\n",
    "b3 = -1"
   ]
  },
  {
   "cell_type": "code",
   "execution_count": 3,
   "id": "93a793a0",
   "metadata": {
    "ExecuteTime": {
     "end_time": "2022-08-05T00:43:48.487120Z",
     "start_time": "2022-08-05T00:43:48.467263Z"
    }
   },
   "outputs": [],
   "source": [
    "#퍼셈트론\n",
    "def MLP(x,w,b):\n",
    "    y = np.sum(w * x) + b\n",
    "    if y <= 0:\n",
    "        return 0\n",
    "    else:\n",
    "        return 1"
   ]
  },
  {
   "cell_type": "code",
   "execution_count": 4,
   "id": "8f684174",
   "metadata": {
    "ExecuteTime": {
     "end_time": "2022-08-05T00:47:08.576970Z",
     "start_time": "2022-08-05T00:47:08.559599Z"
    }
   },
   "outputs": [
    {
     "name": "stderr",
     "output_type": "stream",
     "text": [
      "<>:11: SyntaxWarning: 'list' object is not callable; perhaps you missed a comma?\n",
      "<>:11: SyntaxWarning: 'list' object is not callable; perhaps you missed a comma?\n",
      "C:\\Users\\LG\\AppData\\Local\\Temp\\ipykernel_21456\\746568955.py:11: SyntaxWarning: 'list' object is not callable; perhaps you missed a comma?\n",
      "  return MLP([np.array]([x1, x2]), w2, b3)\n"
     ]
    }
   ],
   "source": [
    "# NAND 게이트\n",
    "def NAND(x1,x2):\n",
    "    return MLP(np.array([x1, x2]), w11, b1)\n",
    "\n",
    "# OR 게이트\n",
    "def OR(x1, x2):\n",
    "    return MLP(np.array([x1, x2]), w12, b2)\n",
    "\n",
    "# AND 게이트\n",
    "def AND(x1, x2):\n",
    "    return MLP([np.array]([x1, x2]), w2, b3)\n",
    "\n",
    "# XOR 게이트\n",
    "def XOR(x1, x2):\n",
    "    return AND(NAND(x1, x2),OR(x1, x2))"
   ]
  },
  {
   "cell_type": "code",
   "execution_count": 7,
   "id": "dc53474d",
   "metadata": {
    "ExecuteTime": {
     "end_time": "2022-08-05T00:49:33.182581Z",
     "start_time": "2022-08-05T00:49:33.164145Z"
    }
   },
   "outputs": [
    {
     "ename": "SyntaxError",
     "evalue": "invalid syntax. Perhaps you forgot a comma? (3822853905.py, line 5)",
     "output_type": "error",
     "traceback": [
      "\u001b[1;36m  Input \u001b[1;32mIn [7]\u001b[1;36m\u001b[0m\n\u001b[1;33m    print(\"입력 값: \" + str(x) +\"출력 값: \"str(y))\u001b[0m\n\u001b[1;37m          ^\u001b[0m\n\u001b[1;31mSyntaxError\u001b[0m\u001b[1;31m:\u001b[0m invalid syntax. Perhaps you forgot a comma?\n"
     ]
    }
   ],
   "source": [
    "# x1, x2 값을 번갈아 대입해 가며 최종갑 충ㄹ력\n",
    "if __name__ =='__main__':\n",
    "    for x in [(0,0), (1,0), (0,1), (1,1)]:\n",
    "        y = XOR(x[0], x[1])\n",
    "        print(\"입력 값: \" + str(x) +\"출력 값: \"str(y))"
   ]
  },
  {
   "cell_type": "code",
   "execution_count": null,
   "id": "4732b8cb",
   "metadata": {},
   "outputs": [],
   "source": [
    "{\n",
    " \"cells\": [\n",
    "  {\n",
    "   \"cell_type\": \"code\",\n",
    "   \"execution_count\": null,\n",
    "   \"id\": \"c4a210c8\",\n",
    "   \"metadata\": {},\n",
    "   \"outputs\": [],\n",
    "   \"source\": []\n",
    "  }\n",
    " ],\n",
    " \"metadata\": {\n",
    "  \"kernelspec\": {\n",
    "   \"display_name\": \"Python 3 (ipykernel)\",\n",
    "   \"language\": \"python\",\n",
    "   \"name\": \"python3\"\n",
    "  },\n",
    "  \"language_info\": {\n",
    "   \"codemirror_mode\": {\n",
    "    \"name\": \"ipython\",\n",
    "    \"version\": 3\n",
    "   },\n",
    "   \"file_extension\": \".py\",\n",
    "   \"mimetype\": \"text/x-python\",\n",
    "   \"name\": \"python\",\n",
    "   \"nbconvert_exporter\": \"python\",\n",
    "   \"pygments_lexer\": \"ipython3\",\n",
    "   \"version\": \"3.10.2\"\n",
    "  },\n",
    "  \"toc\": {\n",
    "   \"base_numbering\": 1,\n",
    "   \"nav_menu\": {},\n",
    "   \"number_sections\": true,\n",
    "   \"sideBar\": true,\n",
    "   \"skip_h1_title\": false,\n",
    "   \"title_cell\": \"Table of Contents\",\n",
    "   \"title_sidebar\": \"Contents\",\n",
    "   \"toc_cell\": false,\n",
    "   \"toc_position\": {},\n",
    "   \"toc_section_display\": true,\n",
    "   \"toc_window_display\": false\n",
    "  }\n",
    " },\n",
    " \"nbformat\": 4,\n",
    " \"nbformat_minor\": 5\n",
    "}"
   ]
  }
 ],
 "metadata": {
  "kernelspec": {
   "display_name": "Python 3 (ipykernel)",
   "language": "python",
   "name": "python3"
  },
  "language_info": {
   "codemirror_mode": {
    "name": "ipython",
    "version": 3
   },
   "file_extension": ".py",
   "mimetype": "text/x-python",
   "name": "python",
   "nbconvert_exporter": "python",
   "pygments_lexer": "ipython3",
   "version": "3.10.4"
  },
  "toc": {
   "base_numbering": 1,
   "nav_menu": {},
   "number_sections": true,
   "sideBar": true,
   "skip_h1_title": false,
   "title_cell": "Table of Contents",
   "title_sidebar": "Contents",
   "toc_cell": false,
   "toc_position": {},
   "toc_section_display": true,
   "toc_window_display": false
  }
 },
 "nbformat": 4,
 "nbformat_minor": 5
}
