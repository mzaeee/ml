{
 "cells": [
  {
   "cell_type": "markdown",
   "id": "b18a57f5",
   "metadata": {},
   "source": [
    "# sklearn.decomposition.PCA\n",
    "class sklearn.decomposition.PCA(**n_components=None, *, copy=True, whiten=False, svd_solver='auto', tol=0.0, iterated_power='auto', n_oversamples=10, power_iteration_normalizer='auto', random_state=None)"
   ]
  },
  {
   "cell_type": "code",
   "execution_count": 3,
   "id": "4250250f",
   "metadata": {
    "ExecuteTime": {
     "end_time": "2022-07-28T01:50:50.183863Z",
     "start_time": "2022-07-28T01:50:50.143129Z"
    },
    "scrolled": true
   },
   "outputs": [
    {
     "name": "stdout",
     "output_type": "stream",
     "text": [
      "(150, 5)\n"
     ]
    },
    {
     "data": {
      "text/html": [
       "<div>\n",
       "<style scoped>\n",
       "    .dataframe tbody tr th:only-of-type {\n",
       "        vertical-align: middle;\n",
       "    }\n",
       "\n",
       "    .dataframe tbody tr th {\n",
       "        vertical-align: top;\n",
       "    }\n",
       "\n",
       "    .dataframe thead th {\n",
       "        text-align: right;\n",
       "    }\n",
       "</style>\n",
       "<table border=\"1\" class=\"dataframe\">\n",
       "  <thead>\n",
       "    <tr style=\"text-align: right;\">\n",
       "      <th></th>\n",
       "      <th>sepal_length</th>\n",
       "      <th>sepal_width</th>\n",
       "      <th>petal_lengrh</th>\n",
       "      <th>petal_sidth</th>\n",
       "      <th>target</th>\n",
       "    </tr>\n",
       "  </thead>\n",
       "  <tbody>\n",
       "    <tr>\n",
       "      <th>0</th>\n",
       "      <td>5.1</td>\n",
       "      <td>3.5</td>\n",
       "      <td>1.4</td>\n",
       "      <td>0.2</td>\n",
       "      <td>0</td>\n",
       "    </tr>\n",
       "    <tr>\n",
       "      <th>1</th>\n",
       "      <td>4.9</td>\n",
       "      <td>3.0</td>\n",
       "      <td>1.4</td>\n",
       "      <td>0.2</td>\n",
       "      <td>0</td>\n",
       "    </tr>\n",
       "    <tr>\n",
       "      <th>2</th>\n",
       "      <td>4.7</td>\n",
       "      <td>3.2</td>\n",
       "      <td>1.3</td>\n",
       "      <td>0.2</td>\n",
       "      <td>0</td>\n",
       "    </tr>\n",
       "  </tbody>\n",
       "</table>\n",
       "</div>"
      ],
      "text/plain": [
       "   sepal_length  sepal_width  petal_lengrh  petal_sidth  target\n",
       "0           5.1          3.5           1.4          0.2       0\n",
       "1           4.9          3.0           1.4          0.2       0\n",
       "2           4.7          3.2           1.3          0.2       0"
      ]
     },
     "execution_count": 3,
     "metadata": {},
     "output_type": "execute_result"
    }
   ],
   "source": [
    "# 데이터 읽어오기\n",
    "from sklearn.datasets import load_iris\n",
    "import pandas as pd\n",
    "import matplotlib.pyplot as plt\n",
    "%matplotlib inline\n",
    "\n",
    "# 사이킷런 내장 데이터 셋 API호출\n",
    "iris = load_iris()\n",
    "\n",
    "# 넘파이 데이터 셋을 Pandas DataFrame으로 변환\n",
    "columns = ['sepal_length', 'sepal_width', 'petal_lengrh', 'petal_sidth']\n",
    "irisDF = pd.DataFrame(iris.data, columns=columns)\n",
    "irisDF['target'] = iris.target\n",
    "\n",
    "print(irisDF.shape)\n",
    "irisDF.head(3)"
   ]
  },
  {
   "cell_type": "markdown",
   "id": "e58fb8a3",
   "metadata": {},
   "source": [
    "### 2개의 속성(sepal_length, sepal_width)으로 타겟 산포도 시각화"
   ]
  },
  {
   "cell_type": "code",
   "execution_count": 19,
   "id": "b38a618f",
   "metadata": {
    "ExecuteTime": {
     "end_time": "2022-07-28T02:28:15.449824Z",
     "start_time": "2022-07-28T02:28:15.344122Z"
    }
   },
   "outputs": [
    {
     "data": {
      "image/png": "[encoded data removed]",
      "text/plain": [
       "<Figure size 432x288 with 1 Axes>"
      ]
     },
     "metadata": {
      "needs_background": "light"
     },
     "output_type": "display_data"
    }
   ],
   "source": [
    "\n",
    "\n",
    "# setosa는 세모, versicolor는 네모, virginica는 동그라미로 표현\n",
    "markers=['^','s','o']\n",
    "\n",
    "# setosa의 target 값은 0, versicolor는 1, virginica는 2. 각 target 별로 다른 shape으로 scatter plot\n",
    "for i, marker in enumerate(markers):\n",
    "    x_axis_data = irisDF[irisDF['target']==i]['sepal_length']\n",
    "    y_axis_data = irisDF[irisDF['target']==i]['sepal_width']\n",
    "    plt.scatter(x_axis_data, y_axis_data,marker=marker, label=iris.target_names[i])\n",
    "    \n",
    "    plt.legend()\n",
    "    plt.xlabel('sepal length')\n",
    "    plt.ylabel('sepal width')\n"
   ]
  },
  {
   "cell_type": "code",
   "execution_count": 8,
   "id": "34350128",
   "metadata": {
    "ExecuteTime": {
     "end_time": "2022-07-28T02:12:30.294431Z",
     "start_time": "2022-07-28T02:12:30.282381Z"
    }
   },
   "outputs": [],
   "source": [
    "# 정규화(평균0, 분산1)\n",
    "from sklearn.preprocessing import StandardScaler\n",
    "\n",
    "iris_scaled = StandardScaler().fit_transform(irisDF)"
   ]
  },
  {
   "cell_type": "code",
   "execution_count": 9,
   "id": "ea00984f",
   "metadata": {
    "ExecuteTime": {
     "end_time": "2022-07-28T02:14:28.200352Z",
     "start_time": "2022-07-28T02:14:28.153225Z"
    }
   },
   "outputs": [
    {
     "name": "stdout",
     "output_type": "stream",
     "text": [
      "(150, 2)\n"
     ]
    }
   ],
   "source": [
    "# PCA 수행(n_components=2)\n",
    "from sklearn.decomposition import PCA\n",
    "\n",
    "pca = PCA(n_components=2)\n",
    "\n",
    "# fit()과 transform()을 호출하여 PCA 변환 데이터 반환\n",
    "pca.fit(iris_scaled)\n",
    "iris_pca = pca.transform(iris_scaled)\n",
    "\n",
    "# 차원이 2차원으로 변환된 것 확인\n",
    "print(iris_pca.shape)"
   ]
  },
  {
   "cell_type": "code",
   "execution_count": 11,
   "id": "41b7059f",
   "metadata": {
    "ExecuteTime": {
     "end_time": "2022-07-28T02:16:27.342343Z",
     "start_time": "2022-07-28T02:16:27.331926Z"
    }
   },
   "outputs": [
    {
     "data": {
      "text/html": [
       "<div>\n",
       "<style scoped>\n",
       "    .dataframe tbody tr th:only-of-type {\n",
       "        vertical-align: middle;\n",
       "    }\n",
       "\n",
       "    .dataframe tbody tr th {\n",
       "        vertical-align: top;\n",
       "    }\n",
       "\n",
       "    .dataframe thead th {\n",
       "        text-align: right;\n",
       "    }\n",
       "</style>\n",
       "<table border=\"1\" class=\"dataframe\">\n",
       "  <thead>\n",
       "    <tr style=\"text-align: right;\">\n",
       "      <th></th>\n",
       "      <th>pca_component_1</th>\n",
       "      <th>pca_component_2</th>\n",
       "      <th>target</th>\n",
       "    </tr>\n",
       "  </thead>\n",
       "  <tbody>\n",
       "    <tr>\n",
       "      <th>0</th>\n",
       "      <td>-2.576120</td>\n",
       "      <td>0.474499</td>\n",
       "      <td>0</td>\n",
       "    </tr>\n",
       "    <tr>\n",
       "      <th>1</th>\n",
       "      <td>-2.415322</td>\n",
       "      <td>-0.678092</td>\n",
       "      <td>0</td>\n",
       "    </tr>\n",
       "    <tr>\n",
       "      <th>2</th>\n",
       "      <td>-2.659333</td>\n",
       "      <td>-0.348282</td>\n",
       "      <td>0</td>\n",
       "    </tr>\n",
       "  </tbody>\n",
       "</table>\n",
       "</div>"
      ],
      "text/plain": [
       "   pca_component_1  pca_component_2  target\n",
       "0        -2.576120         0.474499       0\n",
       "1        -2.415322        -0.678092       0\n",
       "2        -2.659333        -0.348282       0"
      ]
     },
     "execution_count": 11,
     "metadata": {},
     "output_type": "execute_result"
    }
   ],
   "source": [
    "# PCA 변환된 데이터의 컬럼명을 각각 pca_component_1, pca_component_2로 명명\n",
    "pca_columns=['pca_component_1', 'pca_component_2']\n",
    "\n",
    "irisDF_pca = pd.DataFrame(iris_pca, columns=pca_columns)\n",
    "irisDF_pca['target']=iris.target\n",
    "irisDF_pca.head(3)"
   ]
  },
  {
   "cell_type": "code",
   "execution_count": 20,
   "id": "7d76f337",
   "metadata": {
    "ExecuteTime": {
     "end_time": "2022-07-28T02:28:21.797739Z",
     "start_time": "2022-07-28T02:28:21.696949Z"
    }
   },
   "outputs": [
    {
     "data": {
      "image/png": "[encoded data removed]",
      "text/plain": [
       "<Figure size 432x288 with 1 Axes>"
      ]
     },
     "metadata": {
      "needs_background": "light"
     },
     "output_type": "display_data"
    }
   ],
   "source": [
    "# setosa는 세모, versicolor는 네모, virginica는 동그라미로 표현\n",
    "markers=['^','s','o']\n",
    "\n",
    "# pca_component_1을 x축, pc_component_2를 y축으로 scatter plot 수행.\n",
    "for i, marker in enumerate(markers):\n",
    "    x_axis_data = irisDF_pca[irisDF_pca['target']==i]['pca_component_1']\n",
    "    y_axis_data = irisDF_pca[irisDF_pca['target']==i]['pca_component_2']\n",
    "    plt.scatter(x_axis_data, y_axis_data,marker=marker, label=iris.target_names[i])\n",
    "    \n",
    "    plt.legend()\n",
    "    plt.xlabel('sepal length')\n",
    "    plt.ylabel('sepal width')"
   ]
  },
  {
   "cell_type": "code",
   "execution_count": 14,
   "id": "0bc2f9c8",
   "metadata": {
    "ExecuteTime": {
     "end_time": "2022-07-28T02:20:43.043848Z",
     "start_time": "2022-07-28T02:20:43.028266Z"
    }
   },
   "outputs": [
    {
     "name": "stdout",
     "output_type": "stream",
     "text": [
      "[0.76740358 0.18282727]\n"
     ]
    }
   ],
   "source": [
    "# 각 PCA Component 별 변동성 비율\n",
    "print(pca.explained_variance_ratio_)"
   ]
  },
  {
   "cell_type": "markdown",
   "id": "a66cf938",
   "metadata": {},
   "source": [
    "### 원본 데이터와 PCA 변환된 데이터 간 랜덤포레스트 분류기 예측 성능 비교"
   ]
  },
  {
   "cell_type": "code",
   "execution_count": 16,
   "id": "0380692d",
   "metadata": {
    "ExecuteTime": {
     "end_time": "2022-07-28T02:25:14.528442Z",
     "start_time": "2022-07-28T02:25:14.300549Z"
    }
   },
   "outputs": [
    {
     "name": "stdout",
     "output_type": "stream",
     "text": [
      "[0.98 0.94 0.96]\n",
      "0.96\n"
     ]
    }
   ],
   "source": [
    "from sklearn.ensemble import RandomForestClassifier\n",
    "from sklearn.model_selection import cross_val_score\n",
    "import numpy as np\n",
    "\n",
    "rcf = RandomForestClassifier(random_state=156)\n",
    "\n",
    "#원본 데이터\n",
    "scores = cross_val_score(rcf, iris.data, iris.target, scoring='accuracy', cv=3)\n",
    "print(scores)\n",
    "print(np.mean(scores))"
   ]
  },
  {
   "cell_type": "code",
   "execution_count": 18,
   "id": "69fe0ddd",
   "metadata": {
    "ExecuteTime": {
     "end_time": "2022-07-28T02:27:31.112212Z",
     "start_time": "2022-07-28T02:27:30.877881Z"
    },
    "scrolled": true
   },
   "outputs": [
    {
     "name": "stdout",
     "output_type": "stream",
     "text": [
      "[0.98 0.98 1.  ]\n",
      "0.9866666666666667\n"
     ]
    }
   ],
   "source": [
    "# PCA로 차원축소한 데이터\n",
    "pca_X = irisDF_pca[['pca_component_1', 'pca_component_2']]\n",
    "scores_pca = cross_val_score(rcf, pca_X, iris.target, scoring='accuracy', cv=3)\n",
    "print(scores_pca)\n",
    "print(np.mean(scores_pca))"
   ]
  },
  {
   "cell_type": "markdown",
   "id": "d4ea4200",
   "metadata": {},
   "source": [
    "# sklearn.discriminant_analysis.LinearDiscriminantAnalysis\n",
    "class sklearn.discriminant_analysis.LinearDiscriminantAnalysis(solver='svd', shrinkage=None, priors=None, n_components=None, store_covariance=False, tol=0.0001, covariance_estimator=None)"
   ]
  },
  {
   "cell_type": "markdown",
   "id": "181972c0",
   "metadata": {},
   "source": [
    "## 실습 LDA"
   ]
  },
  {
   "cell_type": "code",
   "execution_count": 21,
   "id": "3a4f2396",
   "metadata": {
    "ExecuteTime": {
     "end_time": "2022-07-28T04:18:38.297632Z",
     "start_time": "2022-07-28T04:18:38.268400Z"
    }
   },
   "outputs": [],
   "source": [
    "from sklearn.discriminant_analysis import LinearDiscriminantAnalysis\n",
    "from sklearn.preprocessing import StandardScaler\n",
    "from sklearn.datasets import load_iris\n",
    "\n",
    "iris = load_iris()\n",
    "iris_scaled = StandardScaler().fit_transform(iris.data)"
   ]
  },
  {
   "cell_type": "code",
   "execution_count": 22,
   "id": "f675ffd5",
   "metadata": {
    "ExecuteTime": {
     "end_time": "2022-07-28T04:19:45.603354Z",
     "start_time": "2022-07-28T04:19:45.585216Z"
    }
   },
   "outputs": [
    {
     "name": "stdout",
     "output_type": "stream",
     "text": [
      "(150, 2)\n"
     ]
    }
   ],
   "source": [
    "lda = LinearDiscriminantAnalysis(n_components=2)\n",
    "# fit 호출시 target값 입력\n",
    "lda.fit(iris_scaled, iris.target)\n",
    "iris_lda = lda.transform(iris_scaled)\n",
    "print(iris_lda.shape)"
   ]
  },
  {
   "cell_type": "code",
   "execution_count": 29,
   "id": "a4a06738",
   "metadata": {
    "ExecuteTime": {
     "end_time": "2022-07-28T04:26:35.375377Z",
     "start_time": "2022-07-28T04:26:35.263448Z"
    },
    "code_folding": [],
    "scrolled": true
   },
   "outputs": [
    {
     "data": {
      "image/png": "[encoded data removed]",
      "text/plain": [
       "<Figure size 432x288 with 1 Axes>"
      ]
     },
     "metadata": {
      "needs_background": "light"
     },
     "output_type": "display_data"
    }
   ],
   "source": [
    "import pandas as pd\n",
    "import matplotlib.pyplot as plt\n",
    "%matplotlib inline\n",
    "\n",
    "lda_columns=['lda_component_1', 'lda_component_2']\n",
    "irisDF_lda = pd.DataFrame(iris_lda,columns=lda_columns)\n",
    "irisDF_lda['target']=iris.target\n",
    "\n",
    "# setosa는 세모, versicolor는 네모, virginica는 동그라미로 표현\n",
    "markers=['^','s','o']\n",
    "\n",
    "# pca_component_1을 x축, pc_component_2를 y축으로 scatter plot 수행.\n",
    "for i, marker in enumerate(markers):\n",
    "    x_axis_data = irisDF_lda[irisDF_lda['target']==i]['lda_component_1']\n",
    "    y_axis_data = irisDF_lda[irisDF_lda['target']==i]['lda_component_2']\n",
    "    \n",
    "    plt.scatter(x_axis_data, y_axis_data,marker=marker, label=iris.target_names[i])\n",
    "    \n",
    "    plt.legend(loc='upper right')\n",
    "    plt.xlabel('lda_component_1')\n",
    "    plt.ylabel('lda_component_2')"
   ]
  },
  {
   "cell_type": "code",
   "execution_count": 32,
   "id": "fcb93c7c",
   "metadata": {
    "ExecuteTime": {
     "end_time": "2022-07-28T04:32:15.679529Z",
     "start_time": "2022-07-28T04:32:15.447063Z"
    }
   },
   "outputs": [
    {
     "name": "stdout",
     "output_type": "stream",
     "text": [
      "[1.   0.9  0.96]\n",
      "0.9533333333333333\n"
     ]
    }
   ],
   "source": [
    "# LDA로 차원축소한 데이터\n",
    "lda_X = irisDF_lda[['lda_component_1', 'lda_component_2']]\n",
    "scores_lda = cross_val_score(rcf, lda_X, iris.target, scoring='accuracy', cv=3)\n",
    "print(scores_lda)\n",
    "print(np.mean(scores_lda))"
   ]
  }
 ],
 "metadata": {
  "kernelspec": {
   "display_name": "Python 3 (ipykernel)",
   "language": "python",
   "name": "python3"
  },
  "language_info": {
   "codemirror_mode": {
    "name": "ipython",
    "version": 3
   },
   "file_extension": ".py",
   "mimetype": "text/x-python",
   "name": "python",
   "nbconvert_exporter": "python",
   "pygments_lexer": "ipython3",
   "version": "3.10.4"
  },
  "toc": {
   "base_numbering": 1,
   "nav_menu": {},
   "number_sections": true,
   "sideBar": true,
   "skip_h1_title": false,
   "title_cell": "Table of Contents",
   "title_sidebar": "Contents",
   "toc_cell": false,
   "toc_position": {},
   "toc_section_display": true,
   "toc_window_display": false
  }
 },
 "nbformat": 4,
 "nbformat_minor": 5
}
