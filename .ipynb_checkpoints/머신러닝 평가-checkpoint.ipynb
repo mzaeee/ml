{
 "cells": [
  {
   "cell_type": "code",
   "execution_count": 3,
   "id": "f8191bb2",
   "metadata": {
    "ExecuteTime": {
     "end_time": "2022-07-06T04:29:02.813128Z",
     "start_time": "2022-07-06T04:29:02.774040Z"
    }
   },
   "outputs": [
    {
     "name": "stdout",
     "output_type": "stream",
     "text": [
      "<class 'pandas.core.frame.DataFrame'>\n",
      "RangeIndex: 891 entries, 0 to 890\n",
      "Data columns (total 12 columns):\n",
      " #   Column       Non-Null Count  Dtype  \n",
      "---  ------       --------------  -----  \n",
      " 0   PassengerId  891 non-null    int64  \n",
      " 1   Survived     891 non-null    int64  \n",
      " 2   Pclass       891 non-null    int64  \n",
      " 3   Name         891 non-null    object \n",
      " 4   Sex          891 non-null    object \n",
      " 5   Age          714 non-null    float64\n",
      " 6   SibSp        891 non-null    int64  \n",
      " 7   Parch        891 non-null    int64  \n",
      " 8   Ticket       891 non-null    object \n",
      " 9   Fare         891 non-null    float64\n",
      " 10  Cabin        204 non-null    object \n",
      " 11  Embarked     889 non-null    object \n",
      "dtypes: float64(2), int64(5), object(5)\n",
      "memory usage: 83.7+ KB\n"
     ]
    }
   ],
   "source": [
    "# titanic csv데이터 가져와서 데이터프레임 만들기\n",
    "import pandas as pd\n",
    "\n",
    "df = pd.read_csv('C:/apps/ml/datasets/titanic.csv')\n",
    "df.info()"
   ]
  },
  {
   "cell_type": "code",
   "execution_count": 4,
   "id": "ccaa353a",
   "metadata": {
    "ExecuteTime": {
     "end_time": "2022-07-06T04:36:31.637047Z",
     "start_time": "2022-07-06T04:36:31.614785Z"
    }
   },
   "outputs": [
    {
     "data": {
      "text/html": [
       "<div>\n",
       "<style scoped>\n",
       "    .dataframe tbody tr th:only-of-type {\n",
       "        vertical-align: middle;\n",
       "    }\n",
       "\n",
       "    .dataframe tbody tr th {\n",
       "        vertical-align: top;\n",
       "    }\n",
       "\n",
       "    .dataframe thead th {\n",
       "        text-align: right;\n",
       "    }\n",
       "</style>\n",
       "<table border=\"1\" class=\"dataframe\">\n",
       "  <thead>\n",
       "    <tr style=\"text-align: right;\">\n",
       "      <th></th>\n",
       "      <th>Survived</th>\n",
       "      <th>Pclass</th>\n",
       "      <th>Sex</th>\n",
       "      <th>Age</th>\n",
       "      <th>Embarked</th>\n",
       "    </tr>\n",
       "  </thead>\n",
       "  <tbody>\n",
       "    <tr>\n",
       "      <th>0</th>\n",
       "      <td>0</td>\n",
       "      <td>3</td>\n",
       "      <td>male</td>\n",
       "      <td>22.0</td>\n",
       "      <td>S</td>\n",
       "    </tr>\n",
       "    <tr>\n",
       "      <th>1</th>\n",
       "      <td>1</td>\n",
       "      <td>1</td>\n",
       "      <td>female</td>\n",
       "      <td>38.0</td>\n",
       "      <td>C</td>\n",
       "    </tr>\n",
       "    <tr>\n",
       "      <th>2</th>\n",
       "      <td>1</td>\n",
       "      <td>3</td>\n",
       "      <td>female</td>\n",
       "      <td>26.0</td>\n",
       "      <td>S</td>\n",
       "    </tr>\n",
       "    <tr>\n",
       "      <th>3</th>\n",
       "      <td>1</td>\n",
       "      <td>1</td>\n",
       "      <td>female</td>\n",
       "      <td>35.0</td>\n",
       "      <td>S</td>\n",
       "    </tr>\n",
       "    <tr>\n",
       "      <th>4</th>\n",
       "      <td>0</td>\n",
       "      <td>3</td>\n",
       "      <td>male</td>\n",
       "      <td>35.0</td>\n",
       "      <td>S</td>\n",
       "    </tr>\n",
       "  </tbody>\n",
       "</table>\n",
       "</div>"
      ],
      "text/plain": [
       "   Survived  Pclass     Sex   Age Embarked\n",
       "0         0       3    male  22.0        S\n",
       "1         1       1  female  38.0        C\n",
       "2         1       3  female  26.0        S\n",
       "3         1       1  female  35.0        S\n",
       "4         0       3    male  35.0        S"
      ]
     },
     "execution_count": 4,
     "metadata": {},
     "output_type": "execute_result"
    }
   ],
   "source": [
    "df.drop(columns = ['Name', 'SibSp', 'Ticket', 'PassengerId', 'Cabin', 'Fare', 'Parch'], inplace=True)\n",
    "\n",
    "df.head(5)"
   ]
  },
  {
   "cell_type": "code",
   "execution_count": 5,
   "id": "242468c5",
   "metadata": {
    "ExecuteTime": {
     "end_time": "2022-07-06T04:36:38.256627Z",
     "start_time": "2022-07-06T04:36:38.236385Z"
    }
   },
   "outputs": [
    {
     "name": "stdout",
     "output_type": "stream",
     "text": [
      "<class 'pandas.core.frame.DataFrame'>\n",
      "RangeIndex: 891 entries, 0 to 890\n",
      "Data columns (total 5 columns):\n",
      " #   Column    Non-Null Count  Dtype  \n",
      "---  ------    --------------  -----  \n",
      " 0   Survived  891 non-null    int64  \n",
      " 1   Pclass    891 non-null    int64  \n",
      " 2   Sex       891 non-null    object \n",
      " 3   Age       714 non-null    float64\n",
      " 4   Embarked  889 non-null    object \n",
      "dtypes: float64(1), int64(2), object(2)\n",
      "memory usage: 34.9+ KB\n"
     ]
    }
   ],
   "source": [
    "df.info()"
   ]
  },
  {
   "cell_type": "code",
   "execution_count": 6,
   "id": "b9b0c7a6",
   "metadata": {
    "ExecuteTime": {
     "end_time": "2022-07-06T04:39:46.976187Z",
     "start_time": "2022-07-06T04:39:46.961087Z"
    }
   },
   "outputs": [
    {
     "data": {
      "text/plain": [
       "Survived      0\n",
       "Pclass        0\n",
       "Sex           0\n",
       "Age         177\n",
       "Embarked      2\n",
       "dtype: int64"
      ]
     },
     "execution_count": 6,
     "metadata": {},
     "output_type": "execute_result"
    }
   ],
   "source": [
    "# fillna - Age => mean\n",
    "# Embarked => S\n",
    "df.isnull().sum()"
   ]
  },
  {
   "cell_type": "code",
   "execution_count": 8,
   "id": "dde0f637",
   "metadata": {
    "ExecuteTime": {
     "end_time": "2022-07-06T04:40:36.713358Z",
     "start_time": "2022-07-06T04:40:36.700416Z"
    }
   },
   "outputs": [
    {
     "data": {
      "text/plain": [
       "Survived    0\n",
       "Pclass      0\n",
       "Sex         0\n",
       "Age         0\n",
       "Embarked    0\n",
       "dtype: int64"
      ]
     },
     "execution_count": 8,
     "metadata": {},
     "output_type": "execute_result"
    }
   ],
   "source": [
    "# 결측치 채우기\n",
    "\n",
    "df['Age'].fillna(df['Age'].mean(), inplace=True)\n",
    "df['Embarked'].fillna('S', inplace=True)\n",
    "\n",
    "df.isnull().sum()"
   ]
  },
  {
   "cell_type": "code",
   "execution_count": 13,
   "id": "cc11b84f",
   "metadata": {
    "ExecuteTime": {
     "end_time": "2022-07-06T04:48:16.686677Z",
     "start_time": "2022-07-06T04:48:16.675214Z"
    }
   },
   "outputs": [
    {
     "data": {
      "text/html": [
       "<div>\n",
       "<style scoped>\n",
       "    .dataframe tbody tr th:only-of-type {\n",
       "        vertical-align: middle;\n",
       "    }\n",
       "\n",
       "    .dataframe tbody tr th {\n",
       "        vertical-align: top;\n",
       "    }\n",
       "\n",
       "    .dataframe thead th {\n",
       "        text-align: right;\n",
       "    }\n",
       "</style>\n",
       "<table border=\"1\" class=\"dataframe\">\n",
       "  <thead>\n",
       "    <tr style=\"text-align: right;\">\n",
       "      <th></th>\n",
       "      <th>Survived</th>\n",
       "      <th>Pclass</th>\n",
       "      <th>Sex</th>\n",
       "      <th>Age</th>\n",
       "      <th>Embarked</th>\n",
       "    </tr>\n",
       "  </thead>\n",
       "  <tbody>\n",
       "    <tr>\n",
       "      <th>0</th>\n",
       "      <td>0</td>\n",
       "      <td>3</td>\n",
       "      <td>male</td>\n",
       "      <td>22.0</td>\n",
       "      <td>S</td>\n",
       "    </tr>\n",
       "    <tr>\n",
       "      <th>1</th>\n",
       "      <td>1</td>\n",
       "      <td>1</td>\n",
       "      <td>female</td>\n",
       "      <td>38.0</td>\n",
       "      <td>C</td>\n",
       "    </tr>\n",
       "    <tr>\n",
       "      <th>2</th>\n",
       "      <td>1</td>\n",
       "      <td>3</td>\n",
       "      <td>female</td>\n",
       "      <td>26.0</td>\n",
       "      <td>S</td>\n",
       "    </tr>\n",
       "    <tr>\n",
       "      <th>3</th>\n",
       "      <td>1</td>\n",
       "      <td>1</td>\n",
       "      <td>female</td>\n",
       "      <td>35.0</td>\n",
       "      <td>S</td>\n",
       "    </tr>\n",
       "    <tr>\n",
       "      <th>4</th>\n",
       "      <td>0</td>\n",
       "      <td>3</td>\n",
       "      <td>male</td>\n",
       "      <td>35.0</td>\n",
       "      <td>S</td>\n",
       "    </tr>\n",
       "  </tbody>\n",
       "</table>\n",
       "</div>"
      ],
      "text/plain": [
       "   Survived  Pclass     Sex   Age Embarked\n",
       "0         0       3    male  22.0        S\n",
       "1         1       1  female  38.0        C\n",
       "2         1       3  female  26.0        S\n",
       "3         1       1  female  35.0        S\n",
       "4         0       3    male  35.0        S"
      ]
     },
     "execution_count": 13,
     "metadata": {},
     "output_type": "execute_result"
    }
   ],
   "source": [
    "df.head(5)"
   ]
  },
  {
   "cell_type": "code",
   "execution_count": 14,
   "id": "822b2505",
   "metadata": {
    "ExecuteTime": {
     "end_time": "2022-07-06T04:51:38.227463Z",
     "start_time": "2022-07-06T04:51:38.213734Z"
    }
   },
   "outputs": [],
   "source": [
    "X = df.drop('Survived', axis=1)\n",
    "y = df.loc[:, 'Survived']"
   ]
  },
  {
   "cell_type": "code",
   "execution_count": 16,
   "id": "ca0dac4c",
   "metadata": {
    "ExecuteTime": {
     "end_time": "2022-07-06T04:52:09.565697Z",
     "start_time": "2022-07-06T04:52:09.559717Z"
    }
   },
   "outputs": [],
   "source": [
    "from sklearn.preprocessing import LabelEncoder\n",
    "\n",
    "encoder = LabelEncoder()\n",
    "X['Sex'] = encoder.fit_transform(X['Sex'])\n",
    "X['Embarked'] = encoder.fit_transform(X['Embarked'])"
   ]
  },
  {
   "cell_type": "code",
   "execution_count": 18,
   "id": "ebf92c8c",
   "metadata": {
    "ExecuteTime": {
     "end_time": "2022-07-06T04:53:36.611942Z",
     "start_time": "2022-07-06T04:53:36.593325Z"
    }
   },
   "outputs": [],
   "source": [
    "from sklearn.preprocessing import RobustScaler\n",
    "\n",
    "scaller = RobustScaler()\n",
    "X['Age'] = scaller.fit_transform(X[['Age']])"
   ]
  },
  {
   "cell_type": "code",
   "execution_count": 19,
   "id": "4290cda4",
   "metadata": {
    "ExecuteTime": {
     "end_time": "2022-07-06T04:54:12.088644Z",
     "start_time": "2022-07-06T04:54:12.071804Z"
    },
    "scrolled": true
   },
   "outputs": [
    {
     "data": {
      "text/html": [
       "<div>\n",
       "<style scoped>\n",
       "    .dataframe tbody tr th:only-of-type {\n",
       "        vertical-align: middle;\n",
       "    }\n",
       "\n",
       "    .dataframe tbody tr th {\n",
       "        vertical-align: top;\n",
       "    }\n",
       "\n",
       "    .dataframe thead th {\n",
       "        text-align: right;\n",
       "    }\n",
       "</style>\n",
       "<table border=\"1\" class=\"dataframe\">\n",
       "  <thead>\n",
       "    <tr style=\"text-align: right;\">\n",
       "      <th></th>\n",
       "      <th>Pclass</th>\n",
       "      <th>Sex</th>\n",
       "      <th>Age</th>\n",
       "      <th>Embarked</th>\n",
       "    </tr>\n",
       "  </thead>\n",
       "  <tbody>\n",
       "    <tr>\n",
       "      <th>0</th>\n",
       "      <td>3</td>\n",
       "      <td>1</td>\n",
       "      <td>-0.592240</td>\n",
       "      <td>2</td>\n",
       "    </tr>\n",
       "    <tr>\n",
       "      <th>1</th>\n",
       "      <td>1</td>\n",
       "      <td>0</td>\n",
       "      <td>0.638529</td>\n",
       "      <td>0</td>\n",
       "    </tr>\n",
       "    <tr>\n",
       "      <th>2</th>\n",
       "      <td>3</td>\n",
       "      <td>0</td>\n",
       "      <td>-0.284548</td>\n",
       "      <td>2</td>\n",
       "    </tr>\n",
       "    <tr>\n",
       "      <th>3</th>\n",
       "      <td>1</td>\n",
       "      <td>0</td>\n",
       "      <td>0.407760</td>\n",
       "      <td>2</td>\n",
       "    </tr>\n",
       "    <tr>\n",
       "      <th>4</th>\n",
       "      <td>3</td>\n",
       "      <td>1</td>\n",
       "      <td>0.407760</td>\n",
       "      <td>2</td>\n",
       "    </tr>\n",
       "    <tr>\n",
       "      <th>...</th>\n",
       "      <td>...</td>\n",
       "      <td>...</td>\n",
       "      <td>...</td>\n",
       "      <td>...</td>\n",
       "    </tr>\n",
       "    <tr>\n",
       "      <th>886</th>\n",
       "      <td>2</td>\n",
       "      <td>1</td>\n",
       "      <td>-0.207624</td>\n",
       "      <td>2</td>\n",
       "    </tr>\n",
       "    <tr>\n",
       "      <th>887</th>\n",
       "      <td>1</td>\n",
       "      <td>0</td>\n",
       "      <td>-0.823009</td>\n",
       "      <td>2</td>\n",
       "    </tr>\n",
       "    <tr>\n",
       "      <th>888</th>\n",
       "      <td>3</td>\n",
       "      <td>0</td>\n",
       "      <td>0.000000</td>\n",
       "      <td>2</td>\n",
       "    </tr>\n",
       "    <tr>\n",
       "      <th>889</th>\n",
       "      <td>1</td>\n",
       "      <td>1</td>\n",
       "      <td>-0.284548</td>\n",
       "      <td>0</td>\n",
       "    </tr>\n",
       "    <tr>\n",
       "      <th>890</th>\n",
       "      <td>3</td>\n",
       "      <td>1</td>\n",
       "      <td>0.176991</td>\n",
       "      <td>1</td>\n",
       "    </tr>\n",
       "  </tbody>\n",
       "</table>\n",
       "<p>891 rows × 4 columns</p>\n",
       "</div>"
      ],
      "text/plain": [
       "     Pclass  Sex       Age  Embarked\n",
       "0         3    1 -0.592240         2\n",
       "1         1    0  0.638529         0\n",
       "2         3    0 -0.284548         2\n",
       "3         1    0  0.407760         2\n",
       "4         3    1  0.407760         2\n",
       "..      ...  ...       ...       ...\n",
       "886       2    1 -0.207624         2\n",
       "887       1    0 -0.823009         2\n",
       "888       3    0  0.000000         2\n",
       "889       1    1 -0.284548         0\n",
       "890       3    1  0.176991         1\n",
       "\n",
       "[891 rows x 4 columns]"
      ]
     },
     "execution_count": 19,
     "metadata": {},
     "output_type": "execute_result"
    }
   ],
   "source": [
    "X"
   ]
  },
  {
   "cell_type": "code",
   "execution_count": 37,
   "id": "d27086a1",
   "metadata": {
    "ExecuteTime": {
     "end_time": "2022-07-06T05:16:40.843052Z",
     "start_time": "2022-07-06T05:16:40.821589Z"
    }
   },
   "outputs": [
    {
     "data": {
      "text/html": [
       "<div>\n",
       "<style scoped>\n",
       "    .dataframe tbody tr th:only-of-type {\n",
       "        vertical-align: middle;\n",
       "    }\n",
       "\n",
       "    .dataframe tbody tr th {\n",
       "        vertical-align: top;\n",
       "    }\n",
       "\n",
       "    .dataframe thead th {\n",
       "        text-align: right;\n",
       "    }\n",
       "</style>\n",
       "<table border=\"1\" class=\"dataframe\">\n",
       "  <thead>\n",
       "    <tr style=\"text-align: right;\">\n",
       "      <th></th>\n",
       "      <th>Pclass</th>\n",
       "      <th>Sex</th>\n",
       "      <th>Age</th>\n",
       "      <th>Embarked</th>\n",
       "    </tr>\n",
       "  </thead>\n",
       "  <tbody>\n",
       "    <tr>\n",
       "      <th>0</th>\n",
       "      <td>3</td>\n",
       "      <td>1</td>\n",
       "      <td>0.271174</td>\n",
       "      <td>2</td>\n",
       "    </tr>\n",
       "    <tr>\n",
       "      <th>1</th>\n",
       "      <td>1</td>\n",
       "      <td>0</td>\n",
       "      <td>0.472229</td>\n",
       "      <td>0</td>\n",
       "    </tr>\n",
       "    <tr>\n",
       "      <th>2</th>\n",
       "      <td>3</td>\n",
       "      <td>0</td>\n",
       "      <td>0.321438</td>\n",
       "      <td>2</td>\n",
       "    </tr>\n",
       "    <tr>\n",
       "      <th>3</th>\n",
       "      <td>1</td>\n",
       "      <td>0</td>\n",
       "      <td>0.434531</td>\n",
       "      <td>2</td>\n",
       "    </tr>\n",
       "    <tr>\n",
       "      <th>4</th>\n",
       "      <td>3</td>\n",
       "      <td>1</td>\n",
       "      <td>0.434531</td>\n",
       "      <td>2</td>\n",
       "    </tr>\n",
       "    <tr>\n",
       "      <th>...</th>\n",
       "      <td>...</td>\n",
       "      <td>...</td>\n",
       "      <td>...</td>\n",
       "      <td>...</td>\n",
       "    </tr>\n",
       "    <tr>\n",
       "      <th>886</th>\n",
       "      <td>2</td>\n",
       "      <td>1</td>\n",
       "      <td>0.334004</td>\n",
       "      <td>2</td>\n",
       "    </tr>\n",
       "    <tr>\n",
       "      <th>887</th>\n",
       "      <td>1</td>\n",
       "      <td>0</td>\n",
       "      <td>0.233476</td>\n",
       "      <td>2</td>\n",
       "    </tr>\n",
       "    <tr>\n",
       "      <th>888</th>\n",
       "      <td>3</td>\n",
       "      <td>0</td>\n",
       "      <td>0.367921</td>\n",
       "      <td>2</td>\n",
       "    </tr>\n",
       "    <tr>\n",
       "      <th>889</th>\n",
       "      <td>1</td>\n",
       "      <td>1</td>\n",
       "      <td>0.321438</td>\n",
       "      <td>0</td>\n",
       "    </tr>\n",
       "    <tr>\n",
       "      <th>890</th>\n",
       "      <td>3</td>\n",
       "      <td>1</td>\n",
       "      <td>0.396833</td>\n",
       "      <td>1</td>\n",
       "    </tr>\n",
       "  </tbody>\n",
       "</table>\n",
       "<p>891 rows × 4 columns</p>\n",
       "</div>"
      ],
      "text/plain": [
       "     Pclass  Sex       Age  Embarked\n",
       "0         3    1  0.271174         2\n",
       "1         1    0  0.472229         0\n",
       "2         3    0  0.321438         2\n",
       "3         1    0  0.434531         2\n",
       "4         3    1  0.434531         2\n",
       "..      ...  ...       ...       ...\n",
       "886       2    1  0.334004         2\n",
       "887       1    0  0.233476         2\n",
       "888       3    0  0.367921         2\n",
       "889       1    1  0.321438         0\n",
       "890       3    1  0.396833         1\n",
       "\n",
       "[891 rows x 4 columns]"
      ]
     },
     "execution_count": 37,
     "metadata": {},
     "output_type": "execute_result"
    }
   ],
   "source": [
    "from sklearn.preprocessing import RobustScaler, MinMaxScaler\n",
    "\n",
    "scaler = MinMaxScaler()\n",
    "X['Age'] = scaler.fit_transform(X[['Age']])\n",
    "X"
   ]
  },
  {
   "cell_type": "code",
   "execution_count": 53,
   "id": "6d9f0e2f",
   "metadata": {
    "ExecuteTime": {
     "end_time": "2022-07-06T05:19:21.534228Z",
     "start_time": "2022-07-06T05:19:21.523831Z"
    }
   },
   "outputs": [],
   "source": [
    "from sklearn.model_selection import train_test_split\n",
    "\n",
    "X_train, X_test, y_train, y_test = train_test_split(X,y,\n",
    "                                                   test_size = 0.1, random_state = 111)"
   ]
  },
  {
   "cell_type": "markdown",
   "id": "27beafed",
   "metadata": {},
   "source": [
    "# sklearn.base.BaseEstimator\n",
    "class sklearn.base.BaseEstimator"
   ]
  },
  {
   "cell_type": "code",
   "execution_count": 54,
   "id": "cf9ab2ff",
   "metadata": {
    "ExecuteTime": {
     "end_time": "2022-07-06T05:19:22.100213Z",
     "start_time": "2022-07-06T05:19:21.975976Z"
    }
   },
   "outputs": [],
   "source": [
    "from sklearn.base import BaseEstimator\n",
    "from sklearn.ensemble import RandomForestClassifier\n",
    "\n",
    "be_clf = RandomForestClassifier()\n",
    "be_clf.fit(X_train, y_train)\n",
    "\n",
    "pred = be_clf.predict(X_test)"
   ]
  },
  {
   "cell_type": "code",
   "execution_count": 58,
   "id": "681f0af8",
   "metadata": {
    "ExecuteTime": {
     "end_time": "2022-07-06T05:20:09.836023Z",
     "start_time": "2022-07-06T05:20:09.823918Z"
    },
    "scrolled": true
   },
   "outputs": [
    {
     "name": "stdout",
     "output_type": "stream",
     "text": [
      "정확도: 0.8111111111111111\n",
      "정밀도: 0.8\n",
      "재현율: 0.6857142857142857\n"
     ]
    }
   ],
   "source": [
    "from sklearn.metrics import accuracy_score, precision_score, recall_score\n",
    "\n",
    "print(\"정확도:\", accuracy_score(y_test, pred))\n",
    "print(\"정밀도:\", precision_score(y_test, pred))\n",
    "print(\"재현율:\", recall_score(y_test, pred))"
   ]
  },
  {
   "cell_type": "code",
   "execution_count": 59,
   "id": "225c02de",
   "metadata": {
    "ExecuteTime": {
     "end_time": "2022-07-06T05:22:31.855733Z",
     "start_time": "2022-07-06T05:22:31.836219Z"
    }
   },
   "outputs": [
    {
     "name": "stdout",
     "output_type": "stream",
     "text": [
      "f1 score : 0.7384615384615385\n"
     ]
    }
   ],
   "source": [
    "#정밀도 재현율 역수의 합의 평균-> (1/정+1/재)1/2 => 정+재/정*재 * 1/2\n",
    "\n",
    "from sklearn.metrics import f1_score #조합평균의 역수(역수의 평균)\n",
    "\n",
    "print(\"f1 score :\", f1_score(y_test, pred))"
   ]
  },
  {
   "cell_type": "code",
   "execution_count": 64,
   "id": "481f8770",
   "metadata": {
    "ExecuteTime": {
     "end_time": "2022-07-06T07:26:40.234017Z",
     "start_time": "2022-07-06T07:26:40.207762Z"
    },
    "scrolled": false
   },
   "outputs": [
    {
     "name": "stdout",
     "output_type": "stream",
     "text": [
      "[1 1 1 0 0 0 0 1 0 1 0 0 1 1 0 1 1 0 0 1 1 0 0 0 0 0 0 1 0 0 1 1 1 0 0 0 1\n",
      " 0 1 0 0 0 1 0 0 0 1 0 1 0 0 1 1 0 1 0 0 0 0 1 0 1 0 0 1 1 0 0 0 0 0 0 0 1\n",
      " 0 1 0 1 0 0 0 0 0 1 1 0 0 0 0 0]\n",
      "[[0.30673966 0.69326034]\n",
      " [0.24313959 0.75686041]\n",
      " [0.06385122 0.93614878]\n",
      " [0.8827164  0.1172836 ]\n",
      " [0.92726492 0.07273508]\n",
      " [0.6068496  0.3931504 ]\n",
      " [0.84989784 0.15010216]\n",
      " [0.06457926 0.93542074]\n",
      " [0.90268062 0.09731938]\n",
      " [0.23392688 0.76607312]\n",
      " [0.73260025 0.26739975]\n",
      " [0.89937811 0.10062189]\n",
      " [0.3013728  0.6986272 ]\n",
      " [0.07893166 0.92106834]\n",
      " [0.9195562  0.0804438 ]\n",
      " [0.4534506  0.5465494 ]\n",
      " [0.08362292 0.91637708]\n",
      " [0.85475718 0.14524282]\n",
      " [0.79209074 0.20790926]\n",
      " [0.24783731 0.75216269]\n",
      " [0.32739033 0.67260967]\n",
      " [0.63959002 0.36040998]\n",
      " [0.9195562  0.0804438 ]\n",
      " [0.96195566 0.03804434]\n",
      " [0.90924633 0.09075367]\n",
      " [0.9195562  0.0804438 ]\n",
      " [0.85430153 0.14569847]\n",
      " [0.23850269 0.76149731]\n",
      " [0.90268062 0.09731938]\n",
      " [0.8827164  0.1172836 ]\n",
      " [0.08303999 0.91696001]\n",
      " [0.31763099 0.68236901]\n",
      " [0.18382796 0.81617204]\n",
      " [0.89228001 0.10771999]\n",
      " [0.9237687  0.0762313 ]\n",
      " [0.58240082 0.41759918]\n",
      " [0.06855315 0.93144685]\n",
      " [0.6007823  0.3992177 ]\n",
      " [0.05667736 0.94332264]\n",
      " [0.82771326 0.17228674]\n",
      " [0.935368   0.064632  ]\n",
      " [0.76591669 0.23408331]\n",
      " [0.13051277 0.86948723]\n",
      " [0.61602243 0.38397757]\n",
      " [0.90268062 0.09731938]\n",
      " [0.77488832 0.22511168]\n",
      " [0.46108669 0.53891331]\n",
      " [0.53869644 0.46130356]\n",
      " [0.0886576  0.9113424 ]\n",
      " [0.5762197  0.4237803 ]\n",
      " [0.93981837 0.06018163]\n",
      " [0.46549569 0.53450431]\n",
      " [0.33165553 0.66834447]\n",
      " [0.92895709 0.07104291]\n",
      " [0.46549569 0.53450431]\n",
      " [0.91233717 0.08766283]\n",
      " [0.72266016 0.27733984]\n",
      " [0.70452197 0.29547803]\n",
      " [0.8827164  0.1172836 ]\n",
      " [0.41406193 0.58593807]\n",
      " [0.84663345 0.15336655]\n",
      " [0.439031   0.560969  ]\n",
      " [0.87264923 0.12735077]\n",
      " [0.9195562  0.0804438 ]\n",
      " [0.41406193 0.58593807]\n",
      " [0.08964139 0.91035861]\n",
      " [0.9195562  0.0804438 ]\n",
      " [0.94262422 0.05737578]\n",
      " [0.88150241 0.11849759]\n",
      " [0.90819444 0.09180556]\n",
      " [0.61602243 0.38397757]\n",
      " [0.63666161 0.36333839]\n",
      " [0.9195562  0.0804438 ]\n",
      " [0.38091002 0.61908998]\n",
      " [0.89937811 0.10062189]\n",
      " [0.08362292 0.91637708]\n",
      " [0.90268062 0.09731938]\n",
      " [0.08303999 0.91696001]\n",
      " [0.8827164  0.1172836 ]\n",
      " [0.69307473 0.30692527]\n",
      " [0.76133877 0.23866123]\n",
      " [0.8827164  0.1172836 ]\n",
      " [0.92726492 0.07273508]\n",
      " [0.07532169 0.92467831]\n",
      " [0.3013728  0.6986272 ]\n",
      " [0.75669977 0.24330023]\n",
      " [0.90268062 0.09731938]\n",
      " [0.9237687  0.0762313 ]\n",
      " [0.9195562  0.0804438 ]\n",
      " [0.54309968 0.45690032]]\n",
      "pred_proba()결과 Shape : (90, 2)\n"
     ]
    }
   ],
   "source": [
    "#3개 이상의 클래스 -> \n",
    "#predict_proba 각 클래스에대한 확률\n",
    "\n",
    "from sklearn.linear_model import LogisticRegression\n",
    "\n",
    "lr_clf = LogisticRegression()\n",
    "lr_clf.fit(X_train, y_train)\n",
    "\n",
    "pred_proba = lr_clf.predict_proba(X_test)\n",
    "pred=lr_clf.predict(X_test)\n",
    "print(pred)\n",
    "print(pred_proba)\n",
    "print(f'pred_proba()결과 Shape : {pred_proba.shape}')"
   ]
  },
  {
   "cell_type": "code",
   "execution_count": 72,
   "id": "9ef4ff40",
   "metadata": {
    "ExecuteTime": {
     "end_time": "2022-07-06T07:39:49.318930Z",
     "start_time": "2022-07-06T07:39:49.297901Z"
    }
   },
   "outputs": [
    {
     "name": "stdout",
     "output_type": "stream",
     "text": [
      "pred_proba()결과 Shape : (90, 2)\n",
      "pred_proba arry에서 앞 3개만 샘플로 추출\n",
      ": [[0.30673966 0.69326034]\n",
      " [0.24313959 0.75686041]\n",
      " [0.06385122 0.93614878]]\n",
      "두개의 class 중에서 더 큰 확률을 클래스 값으로 예측 \n",
      " [[0.30673966 0.69326034 1.        ]\n",
      " [0.24313959 0.75686041 1.        ]\n",
      " [0.06385122 0.93614878 1.        ]]\n"
     ]
    }
   ],
   "source": [
    "import numpy as np\n",
    "\n",
    "pred_proba = lr_clf.predict_proba(X_test)\n",
    "pred = lr_clf.predict(X_test)\n",
    "\n",
    "#d예측 확률 array와 예측 결과값 array를 concatenate하여 예측 확률과 결값을 한눈에 확인\n",
    "print('pred_proba()결과 Shape : {0}'.format(pred_proba.shape))\n",
    "print('pred_proba arry에서 앞 3개만 샘플로 추출\\n:', pred_proba[:3])\n",
    "\n",
    "pred_proba_result = np.concatenate([pred_proba, pred.reshape(-1, 1)], axis=1)\n",
    "print('두개의 class 중에서 더 큰 확률을 클래스 값으로 예측 \\n', pred_proba_result[:3])"
   ]
  },
  {
   "cell_type": "code",
   "execution_count": null,
   "id": "3be066b8",
   "metadata": {},
   "outputs": [],
   "source": [
    "X = [[1, -1, 2],\n",
    "    [2, 0, 0],\n",
    "     [0, 1.1, ]"
   ]
  },
  {
   "cell_type": "code",
   "execution_count": 73,
   "id": "a2cd1bc0",
   "metadata": {
    "ExecuteTime": {
     "end_time": "2022-07-06T07:46:18.167518Z",
     "start_time": "2022-07-06T07:46:18.146850Z"
    }
   },
   "outputs": [
    {
     "data": {
      "text/plain": [
       "3.125"
      ]
     },
     "execution_count": 73,
     "metadata": {},
     "output_type": "execute_result"
    }
   ],
   "source": [
    "(10/2+10/8)/2  # 0.8재현율"
   ]
  },
  {
   "cell_type": "code",
   "execution_count": 74,
   "id": "d356d6e5",
   "metadata": {
    "ExecuteTime": {
     "end_time": "2022-07-06T07:46:32.964115Z",
     "start_time": "2022-07-06T07:46:32.949206Z"
    }
   },
   "outputs": [
    {
     "data": {
      "text/plain": [
       "0.32"
      ]
     },
     "execution_count": 74,
     "metadata": {},
     "output_type": "execute_result"
    }
   ],
   "source": [
    "1/3.125"
   ]
  },
  {
   "cell_type": "code",
   "execution_count": 75,
   "id": "132cbe0c",
   "metadata": {
    "ExecuteTime": {
     "end_time": "2022-07-06T07:47:32.979617Z",
     "start_time": "2022-07-06T07:47:32.975266Z"
    }
   },
   "outputs": [
    {
     "data": {
      "text/plain": [
       "2.380952380952381"
      ]
     },
     "execution_count": 75,
     "metadata": {},
     "output_type": "execute_result"
    }
   ],
   "source": [
    "(10/3+10/7)/2"
   ]
  },
  {
   "cell_type": "code",
   "execution_count": 76,
   "id": "d7e54b74",
   "metadata": {
    "ExecuteTime": {
     "end_time": "2022-07-06T07:48:04.196540Z",
     "start_time": "2022-07-06T07:48:04.188424Z"
    }
   },
   "outputs": [
    {
     "data": {
      "text/plain": [
       "0.42"
      ]
     },
     "execution_count": 76,
     "metadata": {},
     "output_type": "execute_result"
    }
   ],
   "source": [
    "1/2.380952380952381"
   ]
  },
  {
   "cell_type": "code",
   "execution_count": 82,
   "id": "72b09f50",
   "metadata": {
    "ExecuteTime": {
     "end_time": "2022-07-06T08:22:53.779934Z",
     "start_time": "2022-07-06T08:22:53.752393Z"
    }
   },
   "outputs": [
    {
     "name": "stdout",
     "output_type": "stream",
     "text": [
      "반환된 분류 결정 임계값 배열의 Shape: (67,)\n",
      "반환된 precisions 배열의 Shape: (68,)\n",
      "반환된 recalls 배열의 Shape: (68,)\n",
      "thresholds 5 saple: [0.03804434 0.05737578 0.06018163 0.064632   0.07104291]\n",
      "precisions 5 sample: [0.38888889 0.39325843 0.38636364 0.3908046  0.39534884]\n",
      "recalls 5 saple: [1.         1.         0.97142857 0.97142857 0.97142857]\n",
      "샘플 추출을 위한 임계값 배열의 index 10개: [ 0 15 30 45 60]\n",
      "샘플용 10개의 임계값: [0.04 0.12 0.31 0.62 0.92]\n",
      "샘플 임계값별 정밀도: [0.389 0.5   0.558 0.84  1.   ]\n",
      "샘플 임계값별 재현율: [1.    0.829 0.686 0.6   0.229]\n"
     ]
    }
   ],
   "source": [
    "from sklearn.metrics import precision_recall_curve\n",
    "\n",
    "#레이블 값이 1일때의 예측 확률을 추출\n",
    "pred_proba_class1 = lr_clf.predict_proba(X_test)[:, 1]\n",
    "\n",
    "#실제값 데이터 셋과 레이블 값이 1일 떄의 예측 확률을 precision_recall_curve인자로 입력\n",
    "precisions, recalls, threshods = precision_recall_curve(y_test, pred_proba_class1)\n",
    "print('반환된 분류 결정 임계값 배열의 Shape:',threshods.shape)\n",
    "print('반환된 precisions 배열의 Shape:', precisions.shape)\n",
    "print('반환된 recalls 배열의 Shape:', recalls.shape)\n",
    "\n",
    "print('thresholds 5 saple:', threshods[:5])\n",
    "print('precisions 5 sample:', precisions[:5])\n",
    "print('recalls 5 saple:', recalls[:5])\n",
    "\n",
    "#반환된 임계값 배열 로우가 147건이므로 샘플로 10건의 추출하되, 임계값을 15 step으로 추출\n",
    "thr_index = np.arange(0, threshods.shape[0], 15)\n",
    "print('샘플 추출을 위한 임계값 배열의 index 10개:', thr_index)\n",
    "print('샘플용 10개의 임계값:', np.round(threshods[thr_index], 2))\n",
    "\n",
    "#15 step 단위로 추출된 임계값에 따른 정밀도와 재현율 값\n",
    "print('샘플 임계값별 정밀도:', np.round(precisions[thr_index], 3))\n",
    "print('샘플 임계값별 재현율:', np.round(recalls[thr_index], 3))"
   ]
  },
  {
   "cell_type": "code",
   "execution_count": null,
   "id": "27094d63",
   "metadata": {},
   "outputs": [],
   "source": [
    "import matplotlib,pyplot as plt\n",
    "import matplotlib.ticker as ticker\n",
    "%matplotlib uinline\n",
    "\n",
    "def precision_recall_curve_plot(y_test, pred_proba_c1):\n",
    "    "
   ]
  },
  {
   "cell_type": "code",
   "execution_count": null,
   "id": "bb898c46",
   "metadata": {},
   "outputs": [],
   "source": []
  },
  {
   "cell_type": "code",
   "execution_count": null,
   "id": "9041348b",
   "metadata": {},
   "outputs": [],
   "source": []
  },
  {
   "cell_type": "code",
   "execution_count": null,
   "id": "1e7646f1",
   "metadata": {},
   "outputs": [],
   "source": []
  },
  {
   "cell_type": "code",
   "execution_count": null,
   "id": "af8632c0",
   "metadata": {},
   "outputs": [],
   "source": []
  },
  {
   "cell_type": "code",
   "execution_count": null,
   "id": "08597232",
   "metadata": {},
   "outputs": [],
   "source": []
  },
  {
   "cell_type": "code",
   "execution_count": null,
   "id": "ded4dce5",
   "metadata": {},
   "outputs": [],
   "source": []
  },
  {
   "cell_type": "code",
   "execution_count": null,
   "id": "e5dfc783",
   "metadata": {},
   "outputs": [],
   "source": []
  },
  {
   "cell_type": "code",
   "execution_count": null,
   "id": "00727536",
   "metadata": {},
   "outputs": [],
   "source": []
  },
  {
   "cell_type": "code",
   "execution_count": null,
   "id": "df3e75c2",
   "metadata": {},
   "outputs": [],
   "source": []
  }
 ],
 "metadata": {
  "kernelspec": {
   "display_name": "Python 3 (ipykernel)",
   "language": "python",
   "name": "python3"
  },
  "language_info": {
   "codemirror_mode": {
    "name": "ipython",
    "version": 3
   },
   "file_extension": ".py",
   "mimetype": "text/x-python",
   "name": "python",
   "nbconvert_exporter": "python",
   "pygments_lexer": "ipython3",
   "version": "3.10.4"
  },
  "toc": {
   "base_numbering": 1,
   "nav_menu": {},
   "number_sections": true,
   "sideBar": true,
   "skip_h1_title": false,
   "title_cell": "Table of Contents",
   "title_sidebar": "Contents",
   "toc_cell": false,
   "toc_position": {},
   "toc_section_display": true,
   "toc_window_display": false
  }
 },
 "nbformat": 4,
 "nbformat_minor": 5
}
