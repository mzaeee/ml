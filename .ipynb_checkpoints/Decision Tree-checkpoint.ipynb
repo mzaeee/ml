{
 "cells": [
  {
   "cell_type": "code",
   "execution_count": 1,
   "id": "d93710e3",
   "metadata": {
    "ExecuteTime": {
     "end_time": "2022-07-04T04:44:34.615847Z",
     "start_time": "2022-07-04T04:44:34.406385Z"
    }
   },
   "outputs": [],
   "source": [
    "from sklearn.tree import DecisionTreeClassifier\n",
    "from sklearn.datasets import load_iris\n",
    "from sklearn.model_selection import train_test_split\n",
    "from sklearn.metrics import accuracy_score"
   ]
  },
  {
   "cell_type": "code",
   "execution_count": 3,
   "id": "d9b0e560",
   "metadata": {
    "ExecuteTime": {
     "end_time": "2022-07-04T04:45:12.177278Z",
     "start_time": "2022-07-04T04:45:12.140271Z"
    }
   },
   "outputs": [
    {
     "name": "stdout",
     "output_type": "stream",
     "text": [
      "예측정확도: 0.9667\n"
     ]
    }
   ],
   "source": [
    "# DecisionTree Classifier 생성\n",
    "dt_clf = DecisionTreeClassifier(random_state=52)\n",
    "## 붓꽃 데이터 로딩하고, 학습과 테스트 데이터 셋으로 분리\n",
    "iris_data = load_iris()\n",
    "X_train, X_test, y_train, y_test = train_test_split(iris_data.data, iris_data.target, test_size=0.2, random_state=36)\n",
    "## DecisionTreeClassifier 학습\n",
    "dt_clf.fit(X_train, y_train)\n",
    "pred = dt_clf.predict(X_test)\n",
    "print('예측정확도: {0:.4f}'.format(accuracy_score(y_test,pred)))"
   ]
  },
  {
   "cell_type": "code",
   "execution_count": 4,
   "id": "fb91ac11",
   "metadata": {
    "ExecuteTime": {
     "end_time": "2022-07-04T04:45:15.116282Z",
     "start_time": "2022-07-04T04:45:15.092891Z"
    }
   },
   "outputs": [],
   "source": [
    "from sklearn.tree import export_graphviz\n",
    "\n",
    "export_graphviz(dt_clf,out_file='tree.dot', class_names=iris_data.target_names , feature_names=iris_data.feature_names , impurity=\n",
    "               True , filled=True)"
   ]
  },
  {
   "cell_type": "code",
   "execution_count": null,
   "id": "b1bcaab6",
   "metadata": {},
   "outputs": [],
   "source": []
  }
 ],
 "metadata": {
  "kernelspec": {
   "display_name": "Python 3 (ipykernel)",
   "language": "python",
   "name": "python3"
  },
  "language_info": {
   "codemirror_mode": {
    "name": "ipython",
    "version": 3
   },
   "file_extension": ".py",
   "mimetype": "text/x-python",
   "name": "python",
   "nbconvert_exporter": "python",
   "pygments_lexer": "ipython3",
   "version": "3.10.4"
  },
  "toc": {
   "base_numbering": 1,
   "nav_menu": {},
   "number_sections": true,
   "sideBar": true,
   "skip_h1_title": false,
   "title_cell": "Table of Contents",
   "title_sidebar": "Contents",
   "toc_cell": false,
   "toc_position": {},
   "toc_section_display": true,
   "toc_window_display": false
  }
 },
 "nbformat": 4,
 "nbformat_minor": 5
}
